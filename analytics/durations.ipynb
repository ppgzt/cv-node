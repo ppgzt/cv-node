{
 "cells": [
  {
   "cell_type": "code",
   "execution_count": 1,
   "id": "61e2dae2-4570-49fe-b19c-d468b80eeb4e",
   "metadata": {},
   "outputs": [],
   "source": [
    "import pandas as pd"
   ]
  },
  {
   "cell_type": "code",
   "execution_count": 11,
   "id": "55cb99f7-e0a6-46f3-bdf2-8ee1aa2beef4",
   "metadata": {},
   "outputs": [
    {
     "data": {
      "text/plain": [
       "(38, 4)"
      ]
     },
     "execution_count": 11,
     "metadata": {},
     "output_type": "execute_result"
    }
   ],
   "source": [
    "df_1 = pd.read_json('exps/1/durations.json')\n",
    "df_1.shape"
   ]
  },
  {
   "cell_type": "code",
   "execution_count": 12,
   "id": "e9dc4202-4c10-4a7b-8c1c-7e8ce75c8b98",
   "metadata": {},
   "outputs": [
    {
     "data": {
      "text/html": [
       "<div>\n",
       "<style scoped>\n",
       "    .dataframe tbody tr th:only-of-type {\n",
       "        vertical-align: middle;\n",
       "    }\n",
       "\n",
       "    .dataframe tbody tr th {\n",
       "        vertical-align: top;\n",
       "    }\n",
       "\n",
       "    .dataframe thead th {\n",
       "        text-align: right;\n",
       "    }\n",
       "</style>\n",
       "<table border=\"1\" class=\"dataframe\">\n",
       "  <thead>\n",
       "    <tr style=\"text-align: right;\">\n",
       "      <th></th>\n",
       "      <th>0-capture</th>\n",
       "      <th>1-store_img</th>\n",
       "      <th>2-store_db</th>\n",
       "    </tr>\n",
       "  </thead>\n",
       "  <tbody>\n",
       "    <tr>\n",
       "      <th>mean</th>\n",
       "      <td>0.620330</td>\n",
       "      <td>0.275615</td>\n",
       "      <td>0.026395</td>\n",
       "    </tr>\n",
       "    <tr>\n",
       "      <th>std</th>\n",
       "      <td>0.026084</td>\n",
       "      <td>0.022190</td>\n",
       "      <td>0.064932</td>\n",
       "    </tr>\n",
       "    <tr>\n",
       "      <th>min</th>\n",
       "      <td>0.589723</td>\n",
       "      <td>0.251729</td>\n",
       "      <td>0.010949</td>\n",
       "    </tr>\n",
       "    <tr>\n",
       "      <th>max</th>\n",
       "      <td>0.703048</td>\n",
       "      <td>0.349189</td>\n",
       "      <td>0.396412</td>\n",
       "    </tr>\n",
       "  </tbody>\n",
       "</table>\n",
       "</div>"
      ],
      "text/plain": [
       "      0-capture  1-store_img  2-store_db\n",
       "mean   0.620330     0.275615    0.026395\n",
       "std    0.026084     0.022190    0.064932\n",
       "min    0.589723     0.251729    0.010949\n",
       "max    0.703048     0.349189    0.396412"
      ]
     },
     "execution_count": 12,
     "metadata": {},
     "output_type": "execute_result"
    }
   ],
   "source": [
    "df_1.describe().loc[['mean', 'std', 'min', 'max']]"
   ]
  },
  {
   "cell_type": "code",
   "execution_count": 13,
   "id": "45cf86fd-36b4-4490-aada-bb55b266d201",
   "metadata": {},
   "outputs": [
    {
     "data": {
      "text/plain": [
       "(51, 4)"
      ]
     },
     "execution_count": 13,
     "metadata": {},
     "output_type": "execute_result"
    }
   ],
   "source": [
    "df_2 = pd.read_json('exps/2/durations.json')\n",
    "df_2.shape"
   ]
  },
  {
   "cell_type": "code",
   "execution_count": 14,
   "id": "7ddfb993-6471-4587-a102-6ac4609e147d",
   "metadata": {},
   "outputs": [
    {
     "data": {
      "text/html": [
       "<div>\n",
       "<style scoped>\n",
       "    .dataframe tbody tr th:only-of-type {\n",
       "        vertical-align: middle;\n",
       "    }\n",
       "\n",
       "    .dataframe tbody tr th {\n",
       "        vertical-align: top;\n",
       "    }\n",
       "\n",
       "    .dataframe thead th {\n",
       "        text-align: right;\n",
       "    }\n",
       "</style>\n",
       "<table border=\"1\" class=\"dataframe\">\n",
       "  <thead>\n",
       "    <tr style=\"text-align: right;\">\n",
       "      <th></th>\n",
       "      <th>0-capture</th>\n",
       "      <th>1-store_img</th>\n",
       "      <th>2-store_db</th>\n",
       "    </tr>\n",
       "  </thead>\n",
       "  <tbody>\n",
       "    <tr>\n",
       "      <th>mean</th>\n",
       "      <td>0.498763</td>\n",
       "      <td>0.115795</td>\n",
       "      <td>0.014799</td>\n",
       "    </tr>\n",
       "    <tr>\n",
       "      <th>std</th>\n",
       "      <td>0.021511</td>\n",
       "      <td>0.017641</td>\n",
       "      <td>0.013390</td>\n",
       "    </tr>\n",
       "    <tr>\n",
       "      <th>min</th>\n",
       "      <td>0.463613</td>\n",
       "      <td>0.100722</td>\n",
       "      <td>0.010645</td>\n",
       "    </tr>\n",
       "    <tr>\n",
       "      <th>max</th>\n",
       "      <td>0.542061</td>\n",
       "      <td>0.153514</td>\n",
       "      <td>0.108036</td>\n",
       "    </tr>\n",
       "  </tbody>\n",
       "</table>\n",
       "</div>"
      ],
      "text/plain": [
       "      0-capture  1-store_img  2-store_db\n",
       "mean   0.498763     0.115795    0.014799\n",
       "std    0.021511     0.017641    0.013390\n",
       "min    0.463613     0.100722    0.010645\n",
       "max    0.542061     0.153514    0.108036"
      ]
     },
     "execution_count": 14,
     "metadata": {},
     "output_type": "execute_result"
    }
   ],
   "source": [
    "df_2.describe().loc[['mean', 'std', 'min', 'max']]"
   ]
  },
  {
   "cell_type": "code",
   "execution_count": 15,
   "id": "fc4277d3-f700-454d-b3cd-a92713131cf8",
   "metadata": {},
   "outputs": [
    {
     "data": {
      "text/plain": [
       "(57, 4)"
      ]
     },
     "execution_count": 15,
     "metadata": {},
     "output_type": "execute_result"
    }
   ],
   "source": [
    "df_3 = pd.read_json('exps/3/durations.json')\n",
    "df_3.shape"
   ]
  },
  {
   "cell_type": "code",
   "execution_count": 16,
   "id": "0f11706a-0384-4154-b59b-6b65b8da5e6f",
   "metadata": {},
   "outputs": [
    {
     "data": {
      "text/html": [
       "<div>\n",
       "<style scoped>\n",
       "    .dataframe tbody tr th:only-of-type {\n",
       "        vertical-align: middle;\n",
       "    }\n",
       "\n",
       "    .dataframe tbody tr th {\n",
       "        vertical-align: top;\n",
       "    }\n",
       "\n",
       "    .dataframe thead th {\n",
       "        text-align: right;\n",
       "    }\n",
       "</style>\n",
       "<table border=\"1\" class=\"dataframe\">\n",
       "  <thead>\n",
       "    <tr style=\"text-align: right;\">\n",
       "      <th></th>\n",
       "      <th>0-capture</th>\n",
       "      <th>1-store_img</th>\n",
       "      <th>2-store_db</th>\n",
       "    </tr>\n",
       "  </thead>\n",
       "  <tbody>\n",
       "    <tr>\n",
       "      <th>mean</th>\n",
       "      <td>0.478996</td>\n",
       "      <td>0.060606</td>\n",
       "      <td>0.025476</td>\n",
       "    </tr>\n",
       "    <tr>\n",
       "      <th>std</th>\n",
       "      <td>0.018083</td>\n",
       "      <td>0.013087</td>\n",
       "      <td>0.087773</td>\n",
       "    </tr>\n",
       "    <tr>\n",
       "      <th>min</th>\n",
       "      <td>0.421889</td>\n",
       "      <td>0.046523</td>\n",
       "      <td>0.010658</td>\n",
       "    </tr>\n",
       "    <tr>\n",
       "      <th>max</th>\n",
       "      <td>0.521968</td>\n",
       "      <td>0.091718</td>\n",
       "      <td>0.676300</td>\n",
       "    </tr>\n",
       "  </tbody>\n",
       "</table>\n",
       "</div>"
      ],
      "text/plain": [
       "      0-capture  1-store_img  2-store_db\n",
       "mean   0.478996     0.060606    0.025476\n",
       "std    0.018083     0.013087    0.087773\n",
       "min    0.421889     0.046523    0.010658\n",
       "max    0.521968     0.091718    0.676300"
      ]
     },
     "execution_count": 16,
     "metadata": {},
     "output_type": "execute_result"
    }
   ],
   "source": [
    "df_3.describe().loc[['mean', 'std', 'min', 'max']]"
   ]
  },
  {
   "cell_type": "code",
   "execution_count": 17,
   "id": "813c0abf-c9b9-4699-88d5-f08bcd368a40",
   "metadata": {},
   "outputs": [
    {
     "data": {
      "text/plain": [
       "(64, 4)"
      ]
     },
     "execution_count": 17,
     "metadata": {},
     "output_type": "execute_result"
    }
   ],
   "source": [
    "df_4 = pd.read_json('exps/4/durations.json')\n",
    "df_4.shape"
   ]
  },
  {
   "cell_type": "code",
   "execution_count": 18,
   "id": "edfcef83-337c-4160-9576-f724c08fa3a7",
   "metadata": {},
   "outputs": [
    {
     "data": {
      "text/html": [
       "<div>\n",
       "<style scoped>\n",
       "    .dataframe tbody tr th:only-of-type {\n",
       "        vertical-align: middle;\n",
       "    }\n",
       "\n",
       "    .dataframe tbody tr th {\n",
       "        vertical-align: top;\n",
       "    }\n",
       "\n",
       "    .dataframe thead th {\n",
       "        text-align: right;\n",
       "    }\n",
       "</style>\n",
       "<table border=\"1\" class=\"dataframe\">\n",
       "  <thead>\n",
       "    <tr style=\"text-align: right;\">\n",
       "      <th></th>\n",
       "      <th>0-capture</th>\n",
       "      <th>1-store_img</th>\n",
       "      <th>2-store_db</th>\n",
       "    </tr>\n",
       "  </thead>\n",
       "  <tbody>\n",
       "    <tr>\n",
       "      <th>mean</th>\n",
       "      <td>0.450715</td>\n",
       "      <td>0.034233</td>\n",
       "      <td>0.013551</td>\n",
       "    </tr>\n",
       "    <tr>\n",
       "      <th>std</th>\n",
       "      <td>0.017657</td>\n",
       "      <td>0.006811</td>\n",
       "      <td>0.001912</td>\n",
       "    </tr>\n",
       "    <tr>\n",
       "      <th>min</th>\n",
       "      <td>0.381677</td>\n",
       "      <td>0.024290</td>\n",
       "      <td>0.010892</td>\n",
       "    </tr>\n",
       "    <tr>\n",
       "      <th>max</th>\n",
       "      <td>0.483435</td>\n",
       "      <td>0.046920</td>\n",
       "      <td>0.023782</td>\n",
       "    </tr>\n",
       "  </tbody>\n",
       "</table>\n",
       "</div>"
      ],
      "text/plain": [
       "      0-capture  1-store_img  2-store_db\n",
       "mean   0.450715     0.034233    0.013551\n",
       "std    0.017657     0.006811    0.001912\n",
       "min    0.381677     0.024290    0.010892\n",
       "max    0.483435     0.046920    0.023782"
      ]
     },
     "execution_count": 18,
     "metadata": {},
     "output_type": "execute_result"
    }
   ],
   "source": [
    "df_4.describe().loc[['mean', 'std', 'min', 'max']]"
   ]
  },
  {
   "cell_type": "code",
   "execution_count": 2,
   "id": "c175d220-53a6-417c-94a0-42a05d71a09c",
   "metadata": {},
   "outputs": [
    {
     "data": {
      "text/plain": [
       "(44, 4)"
      ]
     },
     "execution_count": 2,
     "metadata": {},
     "output_type": "execute_result"
    }
   ],
   "source": [
    "df_5 = pd.read_json('exps/5/durations.json')\n",
    "df_5.shape"
   ]
  },
  {
   "cell_type": "code",
   "execution_count": 3,
   "id": "237737d2-51ec-4c1d-bbc4-48f4090256b8",
   "metadata": {},
   "outputs": [
    {
     "data": {
      "text/html": [
       "<div>\n",
       "<style scoped>\n",
       "    .dataframe tbody tr th:only-of-type {\n",
       "        vertical-align: middle;\n",
       "    }\n",
       "\n",
       "    .dataframe tbody tr th {\n",
       "        vertical-align: top;\n",
       "    }\n",
       "\n",
       "    .dataframe thead th {\n",
       "        text-align: right;\n",
       "    }\n",
       "</style>\n",
       "<table border=\"1\" class=\"dataframe\">\n",
       "  <thead>\n",
       "    <tr style=\"text-align: right;\">\n",
       "      <th></th>\n",
       "      <th>0-capture</th>\n",
       "      <th>2-store_db</th>\n",
       "      <th>1-store_img</th>\n",
       "    </tr>\n",
       "  </thead>\n",
       "  <tbody>\n",
       "    <tr>\n",
       "      <th>mean</th>\n",
       "      <td>0.621367</td>\n",
       "      <td>0.059333</td>\n",
       "      <td>0.280522</td>\n",
       "    </tr>\n",
       "    <tr>\n",
       "      <th>std</th>\n",
       "      <td>0.032694</td>\n",
       "      <td>0.162476</td>\n",
       "      <td>0.022403</td>\n",
       "    </tr>\n",
       "    <tr>\n",
       "      <th>min</th>\n",
       "      <td>0.586505</td>\n",
       "      <td>0.012559</td>\n",
       "      <td>0.257926</td>\n",
       "    </tr>\n",
       "    <tr>\n",
       "      <th>max</th>\n",
       "      <td>0.791026</td>\n",
       "      <td>0.951353</td>\n",
       "      <td>0.376334</td>\n",
       "    </tr>\n",
       "  </tbody>\n",
       "</table>\n",
       "</div>"
      ],
      "text/plain": [
       "      0-capture  2-store_db  1-store_img\n",
       "mean   0.621367    0.059333     0.280522\n",
       "std    0.032694    0.162476     0.022403\n",
       "min    0.586505    0.012559     0.257926\n",
       "max    0.791026    0.951353     0.376334"
      ]
     },
     "execution_count": 3,
     "metadata": {},
     "output_type": "execute_result"
    }
   ],
   "source": [
    "df_5.describe().loc[['mean', 'std', 'min', 'max']]"
   ]
  },
  {
   "cell_type": "code",
   "execution_count": 4,
   "id": "707a56b0-9173-4109-969a-fa063ca62fdc",
   "metadata": {},
   "outputs": [
    {
     "data": {
      "text/plain": [
       "(54, 4)"
      ]
     },
     "execution_count": 4,
     "metadata": {},
     "output_type": "execute_result"
    }
   ],
   "source": [
    "df_6 = pd.read_json('exps/6/durations.json')\n",
    "df_6.shape"
   ]
  },
  {
   "cell_type": "code",
   "execution_count": 5,
   "id": "d5bdd917-286f-4de7-91cd-b6596017a066",
   "metadata": {},
   "outputs": [
    {
     "data": {
      "text/html": [
       "<div>\n",
       "<style scoped>\n",
       "    .dataframe tbody tr th:only-of-type {\n",
       "        vertical-align: middle;\n",
       "    }\n",
       "\n",
       "    .dataframe tbody tr th {\n",
       "        vertical-align: top;\n",
       "    }\n",
       "\n",
       "    .dataframe thead th {\n",
       "        text-align: right;\n",
       "    }\n",
       "</style>\n",
       "<table border=\"1\" class=\"dataframe\">\n",
       "  <thead>\n",
       "    <tr style=\"text-align: right;\">\n",
       "      <th></th>\n",
       "      <th>0-capture</th>\n",
       "      <th>2-store_db</th>\n",
       "      <th>1-store_img</th>\n",
       "    </tr>\n",
       "  </thead>\n",
       "  <tbody>\n",
       "    <tr>\n",
       "      <th>mean</th>\n",
       "      <td>0.509064</td>\n",
       "      <td>0.036455</td>\n",
       "      <td>0.194552</td>\n",
       "    </tr>\n",
       "    <tr>\n",
       "      <th>std</th>\n",
       "      <td>0.021132</td>\n",
       "      <td>0.069495</td>\n",
       "      <td>0.030499</td>\n",
       "    </tr>\n",
       "    <tr>\n",
       "      <th>min</th>\n",
       "      <td>0.441871</td>\n",
       "      <td>0.011260</td>\n",
       "      <td>0.106909</td>\n",
       "    </tr>\n",
       "    <tr>\n",
       "      <th>max</th>\n",
       "      <td>0.549778</td>\n",
       "      <td>0.423758</td>\n",
       "      <td>0.277023</td>\n",
       "    </tr>\n",
       "  </tbody>\n",
       "</table>\n",
       "</div>"
      ],
      "text/plain": [
       "      0-capture  2-store_db  1-store_img\n",
       "mean   0.509064    0.036455     0.194552\n",
       "std    0.021132    0.069495     0.030499\n",
       "min    0.441871    0.011260     0.106909\n",
       "max    0.549778    0.423758     0.277023"
      ]
     },
     "execution_count": 5,
     "metadata": {},
     "output_type": "execute_result"
    }
   ],
   "source": [
    "df_6.describe().loc[['mean', 'std', 'min', 'max']]"
   ]
  },
  {
   "cell_type": "code",
   "execution_count": 6,
   "id": "60692716-3808-4c16-948c-a58c2d7450f0",
   "metadata": {},
   "outputs": [
    {
     "data": {
      "text/plain": [
       "(59, 4)"
      ]
     },
     "execution_count": 6,
     "metadata": {},
     "output_type": "execute_result"
    }
   ],
   "source": [
    "df_7 = pd.read_json('exps/7/durations.json')\n",
    "df_7.shape"
   ]
  },
  {
   "cell_type": "code",
   "execution_count": 7,
   "id": "4475cf51-1bbe-431e-b186-ac816f65edcd",
   "metadata": {},
   "outputs": [
    {
     "data": {
      "text/html": [
       "<div>\n",
       "<style scoped>\n",
       "    .dataframe tbody tr th:only-of-type {\n",
       "        vertical-align: middle;\n",
       "    }\n",
       "\n",
       "    .dataframe tbody tr th {\n",
       "        vertical-align: top;\n",
       "    }\n",
       "\n",
       "    .dataframe thead th {\n",
       "        text-align: right;\n",
       "    }\n",
       "</style>\n",
       "<table border=\"1\" class=\"dataframe\">\n",
       "  <thead>\n",
       "    <tr style=\"text-align: right;\">\n",
       "      <th></th>\n",
       "      <th>0-capture</th>\n",
       "      <th>2-store_db</th>\n",
       "      <th>1-store_img</th>\n",
       "    </tr>\n",
       "  </thead>\n",
       "  <tbody>\n",
       "    <tr>\n",
       "      <th>mean</th>\n",
       "      <td>0.486835</td>\n",
       "      <td>0.017100</td>\n",
       "      <td>0.111169</td>\n",
       "    </tr>\n",
       "    <tr>\n",
       "      <th>std</th>\n",
       "      <td>0.013611</td>\n",
       "      <td>0.021679</td>\n",
       "      <td>0.067828</td>\n",
       "    </tr>\n",
       "    <tr>\n",
       "      <th>min</th>\n",
       "      <td>0.440899</td>\n",
       "      <td>0.010811</td>\n",
       "      <td>0.049088</td>\n",
       "    </tr>\n",
       "    <tr>\n",
       "      <th>max</th>\n",
       "      <td>0.518558</td>\n",
       "      <td>0.168847</td>\n",
       "      <td>0.213614</td>\n",
       "    </tr>\n",
       "  </tbody>\n",
       "</table>\n",
       "</div>"
      ],
      "text/plain": [
       "      0-capture  2-store_db  1-store_img\n",
       "mean   0.486835    0.017100     0.111169\n",
       "std    0.013611    0.021679     0.067828\n",
       "min    0.440899    0.010811     0.049088\n",
       "max    0.518558    0.168847     0.213614"
      ]
     },
     "execution_count": 7,
     "metadata": {},
     "output_type": "execute_result"
    }
   ],
   "source": [
    "df_7.describe().loc[['mean', 'std', 'min', 'max']]"
   ]
  },
  {
   "cell_type": "code",
   "execution_count": 8,
   "id": "a72ecc18-b0d5-4f2a-bda3-e8f10707a63a",
   "metadata": {},
   "outputs": [
    {
     "data": {
      "text/plain": [
       "(63, 4)"
      ]
     },
     "execution_count": 8,
     "metadata": {},
     "output_type": "execute_result"
    }
   ],
   "source": [
    "df_8 = pd.read_json('exps/8/durations.json')\n",
    "df_8.shape"
   ]
  },
  {
   "cell_type": "code",
   "execution_count": 9,
   "id": "ade04812-34ec-4fb7-a26e-6712676db085",
   "metadata": {},
   "outputs": [
    {
     "data": {
      "text/html": [
       "<div>\n",
       "<style scoped>\n",
       "    .dataframe tbody tr th:only-of-type {\n",
       "        vertical-align: middle;\n",
       "    }\n",
       "\n",
       "    .dataframe tbody tr th {\n",
       "        vertical-align: top;\n",
       "    }\n",
       "\n",
       "    .dataframe thead th {\n",
       "        text-align: right;\n",
       "    }\n",
       "</style>\n",
       "<table border=\"1\" class=\"dataframe\">\n",
       "  <thead>\n",
       "    <tr style=\"text-align: right;\">\n",
       "      <th></th>\n",
       "      <th>0-capture</th>\n",
       "      <th>2-store_db</th>\n",
       "      <th>1-store_img</th>\n",
       "    </tr>\n",
       "  </thead>\n",
       "  <tbody>\n",
       "    <tr>\n",
       "      <th>mean</th>\n",
       "      <td>0.457011</td>\n",
       "      <td>0.013510</td>\n",
       "      <td>0.043369</td>\n",
       "    </tr>\n",
       "    <tr>\n",
       "      <th>std</th>\n",
       "      <td>0.016873</td>\n",
       "      <td>0.002040</td>\n",
       "      <td>0.007241</td>\n",
       "    </tr>\n",
       "    <tr>\n",
       "      <th>min</th>\n",
       "      <td>0.389163</td>\n",
       "      <td>0.010833</td>\n",
       "      <td>0.025012</td>\n",
       "    </tr>\n",
       "    <tr>\n",
       "      <th>max</th>\n",
       "      <td>0.495750</td>\n",
       "      <td>0.023642</td>\n",
       "      <td>0.059268</td>\n",
       "    </tr>\n",
       "  </tbody>\n",
       "</table>\n",
       "</div>"
      ],
      "text/plain": [
       "      0-capture  2-store_db  1-store_img\n",
       "mean   0.457011    0.013510     0.043369\n",
       "std    0.016873    0.002040     0.007241\n",
       "min    0.389163    0.010833     0.025012\n",
       "max    0.495750    0.023642     0.059268"
      ]
     },
     "execution_count": 9,
     "metadata": {},
     "output_type": "execute_result"
    }
   ],
   "source": [
    "df_8.describe().loc[['mean', 'std', 'min', 'max']]"
   ]
  },
  {
   "cell_type": "code",
   "execution_count": null,
   "id": "a3bcd986-b369-4ae1-be8e-040f182ce3c3",
   "metadata": {},
   "outputs": [],
   "source": []
  }
 ],
 "metadata": {
  "kernelspec": {
   "display_name": "Python 3 (ipykernel)",
   "language": "python",
   "name": "python3"
  },
  "language_info": {
   "codemirror_mode": {
    "name": "ipython",
    "version": 3
   },
   "file_extension": ".py",
   "mimetype": "text/x-python",
   "name": "python",
   "nbconvert_exporter": "python",
   "pygments_lexer": "ipython3",
   "version": "3.12.4"
  }
 },
 "nbformat": 4,
 "nbformat_minor": 5
}
