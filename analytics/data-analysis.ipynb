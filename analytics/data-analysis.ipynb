{
 "cells": [
  {
   "cell_type": "markdown",
   "id": "c987953c-a3af-4c20-a6af-c1675da64efe",
   "metadata": {},
   "source": [
    "# Data Analysis\n",
    "\n",
    "Objective: Quantitative analyse of data ..."
   ]
  },
  {
   "cell_type": "code",
   "execution_count": 1,
   "id": "378f9007-0f6b-4f13-be43-7cb700fd95f5",
   "metadata": {},
   "outputs": [],
   "source": [
    "import sqlite3, pandas as pd"
   ]
  },
  {
   "cell_type": "code",
   "execution_count": 50,
   "id": "abd72e04-ae84-48a4-ac9c-cf0e818b1faa",
   "metadata": {
    "scrolled": true
   },
   "outputs": [],
   "source": [
    "con = sqlite3.connect(\"../cv-node-data/db/cvnode.db\")\n",
    "cur = con.cursor()"
   ]
  },
  {
   "cell_type": "code",
   "execution_count": 51,
   "id": "6f646fff-d133-4677-b0a5-9207beda5431",
   "metadata": {},
   "outputs": [
    {
     "data": {
      "text/plain": [
       "(4, 7)"
      ]
     },
     "execution_count": 51,
     "metadata": {},
     "output_type": "execute_result"
    }
   ],
   "source": [
    "jobs = pd.read_sql_query(\"SELECT rowid, * from jobs\", con, parse_dates=['begin_at', 'final_at'])\n",
    "jobs.shape"
   ]
  },
  {
   "cell_type": "code",
   "execution_count": 52,
   "id": "2e45c6ba-0088-4e2d-825e-f5f7e5edc7e8",
   "metadata": {},
   "outputs": [
    {
     "data": {
      "text/html": [
       "<div>\n",
       "<style scoped>\n",
       "    .dataframe tbody tr th:only-of-type {\n",
       "        vertical-align: middle;\n",
       "    }\n",
       "\n",
       "    .dataframe tbody tr th {\n",
       "        vertical-align: top;\n",
       "    }\n",
       "\n",
       "    .dataframe thead th {\n",
       "        text-align: right;\n",
       "    }\n",
       "</style>\n",
       "<table border=\"1\" class=\"dataframe\">\n",
       "  <thead>\n",
       "    <tr style=\"text-align: right;\">\n",
       "      <th></th>\n",
       "      <th>rowid</th>\n",
       "      <th>begin_at</th>\n",
       "      <th>project_id</th>\n",
       "      <th>collect_id</th>\n",
       "      <th>thing_id</th>\n",
       "      <th>thing_tag</th>\n",
       "      <th>final_at</th>\n",
       "    </tr>\n",
       "  </thead>\n",
       "  <tbody>\n",
       "    <tr>\n",
       "      <th>3</th>\n",
       "      <td>4</td>\n",
       "      <td>2025-01-13 17:46:58.331970</td>\n",
       "      <td>PR-9</td>\n",
       "      <td>CL-9</td>\n",
       "      <td>XY00-9</td>\n",
       "      <td>TG-00</td>\n",
       "      <td>2025-01-13 17:47:00.101810</td>\n",
       "    </tr>\n",
       "    <tr>\n",
       "      <th>2</th>\n",
       "      <td>3</td>\n",
       "      <td>2025-01-13 17:45:51.012623</td>\n",
       "      <td>PR-9</td>\n",
       "      <td>CL-9</td>\n",
       "      <td>XY00-9</td>\n",
       "      <td>TG-00</td>\n",
       "      <td>2025-01-13 17:45:52.479241</td>\n",
       "    </tr>\n",
       "    <tr>\n",
       "      <th>1</th>\n",
       "      <td>2</td>\n",
       "      <td>2025-01-13 17:44:39.080557</td>\n",
       "      <td>PR-9</td>\n",
       "      <td>CL-9</td>\n",
       "      <td>XY00-9</td>\n",
       "      <td>TG-00</td>\n",
       "      <td>2025-01-13 17:44:40.784753</td>\n",
       "    </tr>\n",
       "    <tr>\n",
       "      <th>0</th>\n",
       "      <td>1</td>\n",
       "      <td>2025-01-13 17:43:57.750765</td>\n",
       "      <td>PR-9</td>\n",
       "      <td>CL-9</td>\n",
       "      <td>XY00-9</td>\n",
       "      <td>TG-00</td>\n",
       "      <td>2025-01-13 17:43:59.359502</td>\n",
       "    </tr>\n",
       "  </tbody>\n",
       "</table>\n",
       "</div>"
      ],
      "text/plain": [
       "   rowid                   begin_at project_id collect_id thing_id thing_tag  \\\n",
       "3      4 2025-01-13 17:46:58.331970       PR-9       CL-9   XY00-9     TG-00   \n",
       "2      3 2025-01-13 17:45:51.012623       PR-9       CL-9   XY00-9     TG-00   \n",
       "1      2 2025-01-13 17:44:39.080557       PR-9       CL-9   XY00-9     TG-00   \n",
       "0      1 2025-01-13 17:43:57.750765       PR-9       CL-9   XY00-9     TG-00   \n",
       "\n",
       "                    final_at  \n",
       "3 2025-01-13 17:47:00.101810  \n",
       "2 2025-01-13 17:45:52.479241  \n",
       "1 2025-01-13 17:44:40.784753  \n",
       "0 2025-01-13 17:43:59.359502  "
      ]
     },
     "execution_count": 52,
     "metadata": {},
     "output_type": "execute_result"
    }
   ],
   "source": [
    "jobs.sort_values(by='rowid', ascending=False).head()"
   ]
  },
  {
   "cell_type": "code",
   "execution_count": 53,
   "id": "7b5d60ed-7509-44cf-8b0b-2ef5c4bf0f38",
   "metadata": {},
   "outputs": [
    {
     "data": {
      "text/html": [
       "<div>\n",
       "<style scoped>\n",
       "    .dataframe tbody tr th:only-of-type {\n",
       "        vertical-align: middle;\n",
       "    }\n",
       "\n",
       "    .dataframe tbody tr th {\n",
       "        vertical-align: top;\n",
       "    }\n",
       "\n",
       "    .dataframe thead th {\n",
       "        text-align: right;\n",
       "    }\n",
       "</style>\n",
       "<table border=\"1\" class=\"dataframe\">\n",
       "  <thead>\n",
       "    <tr style=\"text-align: right;\">\n",
       "      <th></th>\n",
       "      <th>rowid</th>\n",
       "      <th>begin_at</th>\n",
       "      <th>project_id</th>\n",
       "      <th>collect_id</th>\n",
       "      <th>thing_id</th>\n",
       "      <th>thing_tag</th>\n",
       "      <th>final_at</th>\n",
       "      <th>duration</th>\n",
       "    </tr>\n",
       "  </thead>\n",
       "  <tbody>\n",
       "    <tr>\n",
       "      <th>3</th>\n",
       "      <td>4</td>\n",
       "      <td>2025-01-13 17:46:58.331970</td>\n",
       "      <td>PR-9</td>\n",
       "      <td>CL-9</td>\n",
       "      <td>XY00-9</td>\n",
       "      <td>TG-00</td>\n",
       "      <td>2025-01-13 17:47:00.101810</td>\n",
       "      <td>0 days 00:00:01.769840</td>\n",
       "    </tr>\n",
       "    <tr>\n",
       "      <th>2</th>\n",
       "      <td>3</td>\n",
       "      <td>2025-01-13 17:45:51.012623</td>\n",
       "      <td>PR-9</td>\n",
       "      <td>CL-9</td>\n",
       "      <td>XY00-9</td>\n",
       "      <td>TG-00</td>\n",
       "      <td>2025-01-13 17:45:52.479241</td>\n",
       "      <td>0 days 00:00:01.466618</td>\n",
       "    </tr>\n",
       "    <tr>\n",
       "      <th>1</th>\n",
       "      <td>2</td>\n",
       "      <td>2025-01-13 17:44:39.080557</td>\n",
       "      <td>PR-9</td>\n",
       "      <td>CL-9</td>\n",
       "      <td>XY00-9</td>\n",
       "      <td>TG-00</td>\n",
       "      <td>2025-01-13 17:44:40.784753</td>\n",
       "      <td>0 days 00:00:01.704196</td>\n",
       "    </tr>\n",
       "    <tr>\n",
       "      <th>0</th>\n",
       "      <td>1</td>\n",
       "      <td>2025-01-13 17:43:57.750765</td>\n",
       "      <td>PR-9</td>\n",
       "      <td>CL-9</td>\n",
       "      <td>XY00-9</td>\n",
       "      <td>TG-00</td>\n",
       "      <td>2025-01-13 17:43:59.359502</td>\n",
       "      <td>0 days 00:00:01.608737</td>\n",
       "    </tr>\n",
       "  </tbody>\n",
       "</table>\n",
       "</div>"
      ],
      "text/plain": [
       "   rowid                   begin_at project_id collect_id thing_id thing_tag  \\\n",
       "3      4 2025-01-13 17:46:58.331970       PR-9       CL-9   XY00-9     TG-00   \n",
       "2      3 2025-01-13 17:45:51.012623       PR-9       CL-9   XY00-9     TG-00   \n",
       "1      2 2025-01-13 17:44:39.080557       PR-9       CL-9   XY00-9     TG-00   \n",
       "0      1 2025-01-13 17:43:57.750765       PR-9       CL-9   XY00-9     TG-00   \n",
       "\n",
       "                    final_at               duration  \n",
       "3 2025-01-13 17:47:00.101810 0 days 00:00:01.769840  \n",
       "2 2025-01-13 17:45:52.479241 0 days 00:00:01.466618  \n",
       "1 2025-01-13 17:44:40.784753 0 days 00:00:01.704196  \n",
       "0 2025-01-13 17:43:59.359502 0 days 00:00:01.608737  "
      ]
     },
     "execution_count": 53,
     "metadata": {},
     "output_type": "execute_result"
    }
   ],
   "source": [
    "jobs['duration'] = jobs['final_at'] - jobs['begin_at']\n",
    "jobs.sort_values(by='rowid', ascending=False).head()"
   ]
  },
  {
   "cell_type": "code",
   "execution_count": 54,
   "id": "91344e39-c41a-4cb6-ae1d-7893bc96cde3",
   "metadata": {},
   "outputs": [
    {
     "data": {
      "text/html": [
       "<div>\n",
       "<style scoped>\n",
       "    .dataframe tbody tr th:only-of-type {\n",
       "        vertical-align: middle;\n",
       "    }\n",
       "\n",
       "    .dataframe tbody tr th {\n",
       "        vertical-align: top;\n",
       "    }\n",
       "\n",
       "    .dataframe thead th {\n",
       "        text-align: right;\n",
       "    }\n",
       "</style>\n",
       "<table border=\"1\" class=\"dataframe\">\n",
       "  <thead>\n",
       "    <tr style=\"text-align: right;\">\n",
       "      <th></th>\n",
       "      <th>rowid</th>\n",
       "      <th>duration</th>\n",
       "    </tr>\n",
       "  </thead>\n",
       "  <tbody>\n",
       "    <tr>\n",
       "      <th>count</th>\n",
       "      <td>4.000000</td>\n",
       "      <td>4</td>\n",
       "    </tr>\n",
       "    <tr>\n",
       "      <th>mean</th>\n",
       "      <td>2.500000</td>\n",
       "      <td>0 days 00:00:01.637347750</td>\n",
       "    </tr>\n",
       "    <tr>\n",
       "      <th>std</th>\n",
       "      <td>1.290994</td>\n",
       "      <td>0 days 00:00:00.131643593</td>\n",
       "    </tr>\n",
       "    <tr>\n",
       "      <th>min</th>\n",
       "      <td>1.000000</td>\n",
       "      <td>0 days 00:00:01.466618</td>\n",
       "    </tr>\n",
       "    <tr>\n",
       "      <th>25%</th>\n",
       "      <td>1.750000</td>\n",
       "      <td>0 days 00:00:01.573207250</td>\n",
       "    </tr>\n",
       "    <tr>\n",
       "      <th>50%</th>\n",
       "      <td>2.500000</td>\n",
       "      <td>0 days 00:00:01.656466500</td>\n",
       "    </tr>\n",
       "    <tr>\n",
       "      <th>75%</th>\n",
       "      <td>3.250000</td>\n",
       "      <td>0 days 00:00:01.720607</td>\n",
       "    </tr>\n",
       "    <tr>\n",
       "      <th>max</th>\n",
       "      <td>4.000000</td>\n",
       "      <td>0 days 00:00:01.769840</td>\n",
       "    </tr>\n",
       "  </tbody>\n",
       "</table>\n",
       "</div>"
      ],
      "text/plain": [
       "          rowid                   duration\n",
       "count  4.000000                          4\n",
       "mean   2.500000  0 days 00:00:01.637347750\n",
       "std    1.290994  0 days 00:00:00.131643593\n",
       "min    1.000000     0 days 00:00:01.466618\n",
       "25%    1.750000  0 days 00:00:01.573207250\n",
       "50%    2.500000  0 days 00:00:01.656466500\n",
       "75%    3.250000     0 days 00:00:01.720607\n",
       "max    4.000000     0 days 00:00:01.769840"
      ]
     },
     "execution_count": 54,
     "metadata": {},
     "output_type": "execute_result"
    }
   ],
   "source": [
    "jobs.describe()"
   ]
  },
  {
   "cell_type": "markdown",
   "id": "ef98a441-09c5-406c-8da9-c91963530b77",
   "metadata": {},
   "source": [
    "## Run"
   ]
  },
  {
   "cell_type": "code",
   "execution_count": 55,
   "id": "43c84fea-1b01-4579-8caf-b433642165ba",
   "metadata": {},
   "outputs": [
    {
     "data": {
      "text/plain": [
       "(49, 6)"
      ]
     },
     "execution_count": 55,
     "metadata": {},
     "output_type": "execute_result"
    }
   ],
   "source": [
    "runs = pd.read_sql_query(\"SELECT rowid, * from runs\", con, parse_dates=['begin_at', 'final_at'])\n",
    "runs.shape"
   ]
  },
  {
   "cell_type": "code",
   "execution_count": 56,
   "id": "d4e6a9cd-60bb-408d-b105-063d59d52a78",
   "metadata": {},
   "outputs": [
    {
     "data": {
      "text/html": [
       "<div>\n",
       "<style scoped>\n",
       "    .dataframe tbody tr th:only-of-type {\n",
       "        vertical-align: middle;\n",
       "    }\n",
       "\n",
       "    .dataframe tbody tr th {\n",
       "        vertical-align: top;\n",
       "    }\n",
       "\n",
       "    .dataframe thead th {\n",
       "        text-align: right;\n",
       "    }\n",
       "</style>\n",
       "<table border=\"1\" class=\"dataframe\">\n",
       "  <thead>\n",
       "    <tr style=\"text-align: right;\">\n",
       "      <th></th>\n",
       "      <th>rowid</th>\n",
       "      <th>begin_at</th>\n",
       "      <th>status</th>\n",
       "      <th>sensor</th>\n",
       "      <th>job_id</th>\n",
       "      <th>final_at</th>\n",
       "    </tr>\n",
       "  </thead>\n",
       "  <tbody>\n",
       "    <tr>\n",
       "      <th>48</th>\n",
       "      <td>49</td>\n",
       "      <td>2025-01-13 17:47:00.089263</td>\n",
       "      <td>CREATED</td>\n",
       "      <td>MaxSense - A075v</td>\n",
       "      <td>4</td>\n",
       "      <td>2025-01-13 17:47:00.162626</td>\n",
       "    </tr>\n",
       "    <tr>\n",
       "      <th>47</th>\n",
       "      <td>48</td>\n",
       "      <td>2025-01-13 17:47:00.020416</td>\n",
       "      <td>CREATED</td>\n",
       "      <td>MaxSense - A075v</td>\n",
       "      <td>4</td>\n",
       "      <td>2025-01-13 17:47:00.085664</td>\n",
       "    </tr>\n",
       "    <tr>\n",
       "      <th>46</th>\n",
       "      <td>47</td>\n",
       "      <td>2025-01-13 17:46:59.948964</td>\n",
       "      <td>CREATED</td>\n",
       "      <td>MaxSense - A075v</td>\n",
       "      <td>4</td>\n",
       "      <td>2025-01-13 17:47:00.016844</td>\n",
       "    </tr>\n",
       "    <tr>\n",
       "      <th>45</th>\n",
       "      <td>46</td>\n",
       "      <td>2025-01-13 17:46:59.879975</td>\n",
       "      <td>CREATED</td>\n",
       "      <td>MaxSense - A075v</td>\n",
       "      <td>4</td>\n",
       "      <td>2025-01-13 17:46:59.945320</td>\n",
       "    </tr>\n",
       "    <tr>\n",
       "      <th>44</th>\n",
       "      <td>45</td>\n",
       "      <td>2025-01-13 17:46:59.808764</td>\n",
       "      <td>CREATED</td>\n",
       "      <td>MaxSense - A075v</td>\n",
       "      <td>4</td>\n",
       "      <td>2025-01-13 17:46:59.875389</td>\n",
       "    </tr>\n",
       "  </tbody>\n",
       "</table>\n",
       "</div>"
      ],
      "text/plain": [
       "    rowid                   begin_at   status            sensor  job_id  \\\n",
       "48     49 2025-01-13 17:47:00.089263  CREATED  MaxSense - A075v       4   \n",
       "47     48 2025-01-13 17:47:00.020416  CREATED  MaxSense - A075v       4   \n",
       "46     47 2025-01-13 17:46:59.948964  CREATED  MaxSense - A075v       4   \n",
       "45     46 2025-01-13 17:46:59.879975  CREATED  MaxSense - A075v       4   \n",
       "44     45 2025-01-13 17:46:59.808764  CREATED  MaxSense - A075v       4   \n",
       "\n",
       "                     final_at  \n",
       "48 2025-01-13 17:47:00.162626  \n",
       "47 2025-01-13 17:47:00.085664  \n",
       "46 2025-01-13 17:47:00.016844  \n",
       "45 2025-01-13 17:46:59.945320  \n",
       "44 2025-01-13 17:46:59.875389  "
      ]
     },
     "execution_count": 56,
     "metadata": {},
     "output_type": "execute_result"
    }
   ],
   "source": [
    "runs.sort_values(by='rowid', ascending=False).head()"
   ]
  },
  {
   "cell_type": "code",
   "execution_count": 57,
   "id": "79e161f4-e90b-4890-b8a2-b99d24a8ed30",
   "metadata": {},
   "outputs": [
    {
     "data": {
      "text/plain": [
       "(49, 10)"
      ]
     },
     "execution_count": 57,
     "metadata": {},
     "output_type": "execute_result"
    }
   ],
   "source": [
    "runs_1 = runs.merge(\n",
    "    jobs[['rowid', 'project_id', 'collect_id', 'thing_id', 'thing_tag']], \n",
    "    left_on='job_id', \n",
    "    right_on='rowid', \n",
    "    how='left').rename(columns={'rowid_x':'run_id'}).drop(columns=['rowid_y'])\n",
    "runs_1.shape"
   ]
  },
  {
   "cell_type": "code",
   "execution_count": 58,
   "id": "5d2f483e-a889-45c2-a504-50ed2e44d748",
   "metadata": {},
   "outputs": [
    {
     "data": {
      "text/html": [
       "<div>\n",
       "<style scoped>\n",
       "    .dataframe tbody tr th:only-of-type {\n",
       "        vertical-align: middle;\n",
       "    }\n",
       "\n",
       "    .dataframe tbody tr th {\n",
       "        vertical-align: top;\n",
       "    }\n",
       "\n",
       "    .dataframe thead th {\n",
       "        text-align: right;\n",
       "    }\n",
       "</style>\n",
       "<table border=\"1\" class=\"dataframe\">\n",
       "  <thead>\n",
       "    <tr style=\"text-align: right;\">\n",
       "      <th></th>\n",
       "      <th>run_id</th>\n",
       "      <th>begin_at</th>\n",
       "      <th>status</th>\n",
       "      <th>sensor</th>\n",
       "      <th>job_id</th>\n",
       "      <th>final_at</th>\n",
       "      <th>project_id</th>\n",
       "      <th>collect_id</th>\n",
       "      <th>thing_id</th>\n",
       "      <th>thing_tag</th>\n",
       "    </tr>\n",
       "  </thead>\n",
       "  <tbody>\n",
       "    <tr>\n",
       "      <th>48</th>\n",
       "      <td>49</td>\n",
       "      <td>2025-01-13 17:47:00.089263</td>\n",
       "      <td>CREATED</td>\n",
       "      <td>MaxSense - A075v</td>\n",
       "      <td>4</td>\n",
       "      <td>2025-01-13 17:47:00.162626</td>\n",
       "      <td>PR-9</td>\n",
       "      <td>CL-9</td>\n",
       "      <td>XY00-9</td>\n",
       "      <td>TG-00</td>\n",
       "    </tr>\n",
       "    <tr>\n",
       "      <th>47</th>\n",
       "      <td>48</td>\n",
       "      <td>2025-01-13 17:47:00.020416</td>\n",
       "      <td>CREATED</td>\n",
       "      <td>MaxSense - A075v</td>\n",
       "      <td>4</td>\n",
       "      <td>2025-01-13 17:47:00.085664</td>\n",
       "      <td>PR-9</td>\n",
       "      <td>CL-9</td>\n",
       "      <td>XY00-9</td>\n",
       "      <td>TG-00</td>\n",
       "    </tr>\n",
       "    <tr>\n",
       "      <th>46</th>\n",
       "      <td>47</td>\n",
       "      <td>2025-01-13 17:46:59.948964</td>\n",
       "      <td>CREATED</td>\n",
       "      <td>MaxSense - A075v</td>\n",
       "      <td>4</td>\n",
       "      <td>2025-01-13 17:47:00.016844</td>\n",
       "      <td>PR-9</td>\n",
       "      <td>CL-9</td>\n",
       "      <td>XY00-9</td>\n",
       "      <td>TG-00</td>\n",
       "    </tr>\n",
       "    <tr>\n",
       "      <th>45</th>\n",
       "      <td>46</td>\n",
       "      <td>2025-01-13 17:46:59.879975</td>\n",
       "      <td>CREATED</td>\n",
       "      <td>MaxSense - A075v</td>\n",
       "      <td>4</td>\n",
       "      <td>2025-01-13 17:46:59.945320</td>\n",
       "      <td>PR-9</td>\n",
       "      <td>CL-9</td>\n",
       "      <td>XY00-9</td>\n",
       "      <td>TG-00</td>\n",
       "    </tr>\n",
       "    <tr>\n",
       "      <th>44</th>\n",
       "      <td>45</td>\n",
       "      <td>2025-01-13 17:46:59.808764</td>\n",
       "      <td>CREATED</td>\n",
       "      <td>MaxSense - A075v</td>\n",
       "      <td>4</td>\n",
       "      <td>2025-01-13 17:46:59.875389</td>\n",
       "      <td>PR-9</td>\n",
       "      <td>CL-9</td>\n",
       "      <td>XY00-9</td>\n",
       "      <td>TG-00</td>\n",
       "    </tr>\n",
       "  </tbody>\n",
       "</table>\n",
       "</div>"
      ],
      "text/plain": [
       "    run_id                   begin_at   status            sensor  job_id  \\\n",
       "48      49 2025-01-13 17:47:00.089263  CREATED  MaxSense - A075v       4   \n",
       "47      48 2025-01-13 17:47:00.020416  CREATED  MaxSense - A075v       4   \n",
       "46      47 2025-01-13 17:46:59.948964  CREATED  MaxSense - A075v       4   \n",
       "45      46 2025-01-13 17:46:59.879975  CREATED  MaxSense - A075v       4   \n",
       "44      45 2025-01-13 17:46:59.808764  CREATED  MaxSense - A075v       4   \n",
       "\n",
       "                     final_at project_id collect_id thing_id thing_tag  \n",
       "48 2025-01-13 17:47:00.162626       PR-9       CL-9   XY00-9     TG-00  \n",
       "47 2025-01-13 17:47:00.085664       PR-9       CL-9   XY00-9     TG-00  \n",
       "46 2025-01-13 17:47:00.016844       PR-9       CL-9   XY00-9     TG-00  \n",
       "45 2025-01-13 17:46:59.945320       PR-9       CL-9   XY00-9     TG-00  \n",
       "44 2025-01-13 17:46:59.875389       PR-9       CL-9   XY00-9     TG-00  "
      ]
     },
     "execution_count": 58,
     "metadata": {},
     "output_type": "execute_result"
    }
   ],
   "source": [
    "runs_1.sort_values(by='run_id', ascending=False).head()"
   ]
  },
  {
   "cell_type": "markdown",
   "id": "49c72578-2b3b-4278-bb77-eca081a7e043",
   "metadata": {},
   "source": [
    "## Itens"
   ]
  },
  {
   "cell_type": "code",
   "execution_count": 62,
   "id": "a2dee85a-7dc6-483e-a4d0-807e9d3781bf",
   "metadata": {},
   "outputs": [
    {
     "data": {
      "text/plain": [
       "(276, 7)"
      ]
     },
     "execution_count": 62,
     "metadata": {},
     "output_type": "execute_result"
    }
   ],
   "source": [
    "itens = pd.read_sql_query(\"SELECT rowid, * from itens\", con)\n",
    "itens.shape"
   ]
  },
  {
   "cell_type": "code",
   "execution_count": 63,
   "id": "569159b9-57a4-488e-b8af-0dce02f2f708",
   "metadata": {},
   "outputs": [
    {
     "data": {
      "text/html": [
       "<div>\n",
       "<style scoped>\n",
       "    .dataframe tbody tr th:only-of-type {\n",
       "        vertical-align: middle;\n",
       "    }\n",
       "\n",
       "    .dataframe tbody tr th {\n",
       "        vertical-align: top;\n",
       "    }\n",
       "\n",
       "    .dataframe thead th {\n",
       "        text-align: right;\n",
       "    }\n",
       "</style>\n",
       "<table border=\"1\" class=\"dataframe\">\n",
       "  <thead>\n",
       "    <tr style=\"text-align: right;\">\n",
       "      <th></th>\n",
       "      <th>rowid</th>\n",
       "      <th>status</th>\n",
       "      <th>type</th>\n",
       "      <th>pov</th>\n",
       "      <th>res</th>\n",
       "      <th>file_path</th>\n",
       "      <th>run_id</th>\n",
       "    </tr>\n",
       "  </thead>\n",
       "  <tbody>\n",
       "    <tr>\n",
       "      <th>275</th>\n",
       "      <td>276</td>\n",
       "      <td>STAGED</td>\n",
       "      <td>IMAGE</td>\n",
       "      <td>TOP_DOWN</td>\n",
       "      <td>_320_240_1</td>\n",
       "      <td>TG-00_69_2025_01_13_17_49_35_141692_STATUS_320...</td>\n",
       "      <td>69</td>\n",
       "    </tr>\n",
       "    <tr>\n",
       "      <th>274</th>\n",
       "      <td>275</td>\n",
       "      <td>STAGED</td>\n",
       "      <td>IMAGE</td>\n",
       "      <td>TOP_DOWN</td>\n",
       "      <td>_320_240_1</td>\n",
       "      <td>TG-00_69_2025_01_13_17_49_35_141692_IR_320_240...</td>\n",
       "      <td>69</td>\n",
       "    </tr>\n",
       "    <tr>\n",
       "      <th>273</th>\n",
       "      <td>274</td>\n",
       "      <td>STAGED</td>\n",
       "      <td>IMAGE</td>\n",
       "      <td>TOP_DOWN</td>\n",
       "      <td>_320_240_1</td>\n",
       "      <td>TG-00_69_2025_01_13_17_49_35_141692_DEPTH_320_...</td>\n",
       "      <td>69</td>\n",
       "    </tr>\n",
       "    <tr>\n",
       "      <th>272</th>\n",
       "      <td>273</td>\n",
       "      <td>STAGED</td>\n",
       "      <td>IMAGE</td>\n",
       "      <td>TOP_DOWN</td>\n",
       "      <td>_640_480_3</td>\n",
       "      <td>TG-00_69_2025_01_13_17_49_35_141692_RGB_640_48...</td>\n",
       "      <td>69</td>\n",
       "    </tr>\n",
       "    <tr>\n",
       "      <th>271</th>\n",
       "      <td>272</td>\n",
       "      <td>STAGED</td>\n",
       "      <td>IMAGE</td>\n",
       "      <td>TOP_DOWN</td>\n",
       "      <td>_320_240_1</td>\n",
       "      <td>TG-00_68_2025_01_13_17_49_34_688491_STATUS_320...</td>\n",
       "      <td>68</td>\n",
       "    </tr>\n",
       "  </tbody>\n",
       "</table>\n",
       "</div>"
      ],
      "text/plain": [
       "     rowid  status   type       pov         res  \\\n",
       "275    276  STAGED  IMAGE  TOP_DOWN  _320_240_1   \n",
       "274    275  STAGED  IMAGE  TOP_DOWN  _320_240_1   \n",
       "273    274  STAGED  IMAGE  TOP_DOWN  _320_240_1   \n",
       "272    273  STAGED  IMAGE  TOP_DOWN  _640_480_3   \n",
       "271    272  STAGED  IMAGE  TOP_DOWN  _320_240_1   \n",
       "\n",
       "                                             file_path  run_id  \n",
       "275  TG-00_69_2025_01_13_17_49_35_141692_STATUS_320...      69  \n",
       "274  TG-00_69_2025_01_13_17_49_35_141692_IR_320_240...      69  \n",
       "273  TG-00_69_2025_01_13_17_49_35_141692_DEPTH_320_...      69  \n",
       "272  TG-00_69_2025_01_13_17_49_35_141692_RGB_640_48...      69  \n",
       "271  TG-00_68_2025_01_13_17_49_34_688491_STATUS_320...      68  "
      ]
     },
     "execution_count": 63,
     "metadata": {},
     "output_type": "execute_result"
    }
   ],
   "source": [
    "itens.sort_values(by='rowid', ascending=False).head()"
   ]
  },
  {
   "cell_type": "code",
   "execution_count": 47,
   "id": "a0ae9159-33ef-494f-921d-1fa653a1b7b1",
   "metadata": {},
   "outputs": [
    {
     "data": {
      "text/plain": [
       "count    442.000000\n",
       "mean       3.029412\n",
       "std        1.405059\n",
       "min        1.000000\n",
       "25%        1.000000\n",
       "50%        4.000000\n",
       "75%        4.000000\n",
       "max        4.000000\n",
       "dtype: float64"
      ]
     },
     "execution_count": 47,
     "metadata": {},
     "output_type": "execute_result"
    }
   ],
   "source": [
    "itens.groupby('run_id').size().describe()"
   ]
  },
  {
   "cell_type": "markdown",
   "id": "e2e9baaa-21ad-4427-a9f3-cc21b081d313",
   "metadata": {},
   "source": [
    "## Data\n",
    "$t = jobs * runs-per-job * items$"
   ]
  },
  {
   "cell_type": "code",
   "execution_count": 66,
   "id": "f231a60c-5634-42fa-a30f-7fcb40712967",
   "metadata": {},
   "outputs": [
    {
     "name": "stdout",
     "output_type": "stream",
     "text": [
      "24380 itens\n"
     ]
    }
   ],
   "source": [
    "t = 23 * 265 * 4\n",
    "print(f'{t} itens')"
   ]
  }
 ],
 "metadata": {
  "kernelspec": {
   "display_name": "Python 3 (ipykernel)",
   "language": "python",
   "name": "python3"
  },
  "language_info": {
   "codemirror_mode": {
    "name": "ipython",
    "version": 3
   },
   "file_extension": ".py",
   "mimetype": "text/x-python",
   "name": "python",
   "nbconvert_exporter": "python",
   "pygments_lexer": "ipython3",
   "version": "3.10.9"
  }
 },
 "nbformat": 4,
 "nbformat_minor": 5
}
