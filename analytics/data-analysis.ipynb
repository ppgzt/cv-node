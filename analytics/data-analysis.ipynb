{
 "cells": [
  {
   "cell_type": "markdown",
   "id": "c987953c-a3af-4c20-a6af-c1675da64efe",
   "metadata": {},
   "source": [
    "# Data Analysis\n",
    "\n",
    "Objective: Quantitative analyse of data ..."
   ]
  },
  {
   "cell_type": "code",
   "execution_count": 1,
   "id": "378f9007-0f6b-4f13-be43-7cb700fd95f5",
   "metadata": {},
   "outputs": [],
   "source": [
    "import sqlite3, pandas as pd"
   ]
  },
  {
   "cell_type": "code",
   "execution_count": 64,
   "id": "abd72e04-ae84-48a4-ac9c-cf0e818b1faa",
   "metadata": {
    "scrolled": true
   },
   "outputs": [],
   "source": [
    "con = sqlite3.connect(\"../cv-node-data/db/cvnode.db\")\n",
    "cur = con.cursor()"
   ]
  },
  {
   "cell_type": "code",
   "execution_count": 65,
   "id": "6f646fff-d133-4677-b0a5-9207beda5431",
   "metadata": {},
   "outputs": [
    {
     "data": {
      "text/plain": [
       "(2, 7)"
      ]
     },
     "execution_count": 65,
     "metadata": {},
     "output_type": "execute_result"
    }
   ],
   "source": [
    "jobs = pd.read_sql_query(\"SELECT rowid, * from jobs\", con, parse_dates=['begin_at', 'final_at'])\n",
    "jobs.shape"
   ]
  },
  {
   "cell_type": "code",
   "execution_count": 66,
   "id": "2e45c6ba-0088-4e2d-825e-f5f7e5edc7e8",
   "metadata": {},
   "outputs": [
    {
     "data": {
      "text/html": [
       "<div>\n",
       "<style scoped>\n",
       "    .dataframe tbody tr th:only-of-type {\n",
       "        vertical-align: middle;\n",
       "    }\n",
       "\n",
       "    .dataframe tbody tr th {\n",
       "        vertical-align: top;\n",
       "    }\n",
       "\n",
       "    .dataframe thead th {\n",
       "        text-align: right;\n",
       "    }\n",
       "</style>\n",
       "<table border=\"1\" class=\"dataframe\">\n",
       "  <thead>\n",
       "    <tr style=\"text-align: right;\">\n",
       "      <th></th>\n",
       "      <th>rowid</th>\n",
       "      <th>begin_at</th>\n",
       "      <th>project_id</th>\n",
       "      <th>collect_id</th>\n",
       "      <th>thing_id</th>\n",
       "      <th>thing_tag</th>\n",
       "      <th>final_at</th>\n",
       "    </tr>\n",
       "  </thead>\n",
       "  <tbody>\n",
       "    <tr>\n",
       "      <th>1</th>\n",
       "      <td>2</td>\n",
       "      <td>2025-01-13 18:03:19.358259</td>\n",
       "      <td>PR-9</td>\n",
       "      <td>CL-9</td>\n",
       "      <td>XY00-9</td>\n",
       "      <td>TG-00</td>\n",
       "      <td>2025-01-13 18:03:22.558581</td>\n",
       "    </tr>\n",
       "    <tr>\n",
       "      <th>0</th>\n",
       "      <td>1</td>\n",
       "      <td>2025-01-13 18:02:44.292068</td>\n",
       "      <td>PR-9</td>\n",
       "      <td>CL-9</td>\n",
       "      <td>XY00-9</td>\n",
       "      <td>TG-00</td>\n",
       "      <td>2025-01-13 18:02:52.313621</td>\n",
       "    </tr>\n",
       "  </tbody>\n",
       "</table>\n",
       "</div>"
      ],
      "text/plain": [
       "   rowid                   begin_at project_id collect_id thing_id thing_tag  \\\n",
       "1      2 2025-01-13 18:03:19.358259       PR-9       CL-9   XY00-9     TG-00   \n",
       "0      1 2025-01-13 18:02:44.292068       PR-9       CL-9   XY00-9     TG-00   \n",
       "\n",
       "                    final_at  \n",
       "1 2025-01-13 18:03:22.558581  \n",
       "0 2025-01-13 18:02:52.313621  "
      ]
     },
     "execution_count": 66,
     "metadata": {},
     "output_type": "execute_result"
    }
   ],
   "source": [
    "jobs.sort_values(by='rowid', ascending=False).head()"
   ]
  },
  {
   "cell_type": "code",
   "execution_count": 67,
   "id": "7b5d60ed-7509-44cf-8b0b-2ef5c4bf0f38",
   "metadata": {},
   "outputs": [
    {
     "data": {
      "text/html": [
       "<div>\n",
       "<style scoped>\n",
       "    .dataframe tbody tr th:only-of-type {\n",
       "        vertical-align: middle;\n",
       "    }\n",
       "\n",
       "    .dataframe tbody tr th {\n",
       "        vertical-align: top;\n",
       "    }\n",
       "\n",
       "    .dataframe thead th {\n",
       "        text-align: right;\n",
       "    }\n",
       "</style>\n",
       "<table border=\"1\" class=\"dataframe\">\n",
       "  <thead>\n",
       "    <tr style=\"text-align: right;\">\n",
       "      <th></th>\n",
       "      <th>rowid</th>\n",
       "      <th>begin_at</th>\n",
       "      <th>project_id</th>\n",
       "      <th>collect_id</th>\n",
       "      <th>thing_id</th>\n",
       "      <th>thing_tag</th>\n",
       "      <th>final_at</th>\n",
       "      <th>duration</th>\n",
       "    </tr>\n",
       "  </thead>\n",
       "  <tbody>\n",
       "    <tr>\n",
       "      <th>1</th>\n",
       "      <td>2</td>\n",
       "      <td>2025-01-13 18:03:19.358259</td>\n",
       "      <td>PR-9</td>\n",
       "      <td>CL-9</td>\n",
       "      <td>XY00-9</td>\n",
       "      <td>TG-00</td>\n",
       "      <td>2025-01-13 18:03:22.558581</td>\n",
       "      <td>0 days 00:00:03.200322</td>\n",
       "    </tr>\n",
       "    <tr>\n",
       "      <th>0</th>\n",
       "      <td>1</td>\n",
       "      <td>2025-01-13 18:02:44.292068</td>\n",
       "      <td>PR-9</td>\n",
       "      <td>CL-9</td>\n",
       "      <td>XY00-9</td>\n",
       "      <td>TG-00</td>\n",
       "      <td>2025-01-13 18:02:52.313621</td>\n",
       "      <td>0 days 00:00:08.021553</td>\n",
       "    </tr>\n",
       "  </tbody>\n",
       "</table>\n",
       "</div>"
      ],
      "text/plain": [
       "   rowid                   begin_at project_id collect_id thing_id thing_tag  \\\n",
       "1      2 2025-01-13 18:03:19.358259       PR-9       CL-9   XY00-9     TG-00   \n",
       "0      1 2025-01-13 18:02:44.292068       PR-9       CL-9   XY00-9     TG-00   \n",
       "\n",
       "                    final_at               duration  \n",
       "1 2025-01-13 18:03:22.558581 0 days 00:00:03.200322  \n",
       "0 2025-01-13 18:02:52.313621 0 days 00:00:08.021553  "
      ]
     },
     "execution_count": 67,
     "metadata": {},
     "output_type": "execute_result"
    }
   ],
   "source": [
    "jobs['duration'] = jobs['final_at'] - jobs['begin_at']\n",
    "jobs.sort_values(by='rowid', ascending=False).head()"
   ]
  },
  {
   "cell_type": "code",
   "execution_count": 68,
   "id": "91344e39-c41a-4cb6-ae1d-7893bc96cde3",
   "metadata": {},
   "outputs": [
    {
     "data": {
      "text/html": [
       "<div>\n",
       "<style scoped>\n",
       "    .dataframe tbody tr th:only-of-type {\n",
       "        vertical-align: middle;\n",
       "    }\n",
       "\n",
       "    .dataframe tbody tr th {\n",
       "        vertical-align: top;\n",
       "    }\n",
       "\n",
       "    .dataframe thead th {\n",
       "        text-align: right;\n",
       "    }\n",
       "</style>\n",
       "<table border=\"1\" class=\"dataframe\">\n",
       "  <thead>\n",
       "    <tr style=\"text-align: right;\">\n",
       "      <th></th>\n",
       "      <th>rowid</th>\n",
       "      <th>duration</th>\n",
       "    </tr>\n",
       "  </thead>\n",
       "  <tbody>\n",
       "    <tr>\n",
       "      <th>count</th>\n",
       "      <td>2.000000</td>\n",
       "      <td>2</td>\n",
       "    </tr>\n",
       "    <tr>\n",
       "      <th>mean</th>\n",
       "      <td>1.500000</td>\n",
       "      <td>0 days 00:00:05.610937500</td>\n",
       "    </tr>\n",
       "    <tr>\n",
       "      <th>std</th>\n",
       "      <td>0.707107</td>\n",
       "      <td>0 days 00:00:03.409125133</td>\n",
       "    </tr>\n",
       "    <tr>\n",
       "      <th>min</th>\n",
       "      <td>1.000000</td>\n",
       "      <td>0 days 00:00:03.200322</td>\n",
       "    </tr>\n",
       "    <tr>\n",
       "      <th>25%</th>\n",
       "      <td>1.250000</td>\n",
       "      <td>0 days 00:00:04.405629750</td>\n",
       "    </tr>\n",
       "    <tr>\n",
       "      <th>50%</th>\n",
       "      <td>1.500000</td>\n",
       "      <td>0 days 00:00:05.610937500</td>\n",
       "    </tr>\n",
       "    <tr>\n",
       "      <th>75%</th>\n",
       "      <td>1.750000</td>\n",
       "      <td>0 days 00:00:06.816245250</td>\n",
       "    </tr>\n",
       "    <tr>\n",
       "      <th>max</th>\n",
       "      <td>2.000000</td>\n",
       "      <td>0 days 00:00:08.021553</td>\n",
       "    </tr>\n",
       "  </tbody>\n",
       "</table>\n",
       "</div>"
      ],
      "text/plain": [
       "          rowid                   duration\n",
       "count  2.000000                          2\n",
       "mean   1.500000  0 days 00:00:05.610937500\n",
       "std    0.707107  0 days 00:00:03.409125133\n",
       "min    1.000000     0 days 00:00:03.200322\n",
       "25%    1.250000  0 days 00:00:04.405629750\n",
       "50%    1.500000  0 days 00:00:05.610937500\n",
       "75%    1.750000  0 days 00:00:06.816245250\n",
       "max    2.000000     0 days 00:00:08.021553"
      ]
     },
     "execution_count": 68,
     "metadata": {},
     "output_type": "execute_result"
    }
   ],
   "source": [
    "jobs.describe()"
   ]
  },
  {
   "cell_type": "markdown",
   "id": "ef98a441-09c5-406c-8da9-c91963530b77",
   "metadata": {},
   "source": [
    "## Run"
   ]
  },
  {
   "cell_type": "code",
   "execution_count": 69,
   "id": "43c84fea-1b01-4579-8caf-b433642165ba",
   "metadata": {},
   "outputs": [
    {
     "data": {
      "text/plain": [
       "(25, 6)"
      ]
     },
     "execution_count": 69,
     "metadata": {},
     "output_type": "execute_result"
    }
   ],
   "source": [
    "runs = pd.read_sql_query(\"SELECT rowid, * from runs\", con, parse_dates=['begin_at', 'final_at'])\n",
    "runs.shape"
   ]
  },
  {
   "cell_type": "code",
   "execution_count": 70,
   "id": "d4e6a9cd-60bb-408d-b105-063d59d52a78",
   "metadata": {},
   "outputs": [
    {
     "data": {
      "text/html": [
       "<div>\n",
       "<style scoped>\n",
       "    .dataframe tbody tr th:only-of-type {\n",
       "        vertical-align: middle;\n",
       "    }\n",
       "\n",
       "    .dataframe tbody tr th {\n",
       "        vertical-align: top;\n",
       "    }\n",
       "\n",
       "    .dataframe thead th {\n",
       "        text-align: right;\n",
       "    }\n",
       "</style>\n",
       "<table border=\"1\" class=\"dataframe\">\n",
       "  <thead>\n",
       "    <tr style=\"text-align: right;\">\n",
       "      <th></th>\n",
       "      <th>rowid</th>\n",
       "      <th>begin_at</th>\n",
       "      <th>status</th>\n",
       "      <th>sensor</th>\n",
       "      <th>job_id</th>\n",
       "      <th>final_at</th>\n",
       "    </tr>\n",
       "  </thead>\n",
       "  <tbody>\n",
       "    <tr>\n",
       "      <th>24</th>\n",
       "      <td>25</td>\n",
       "      <td>2025-01-13 18:03:22.543001</td>\n",
       "      <td>CREATED</td>\n",
       "      <td>MaxSense - A075v</td>\n",
       "      <td>2</td>\n",
       "      <td>2025-01-13 18:03:22.608828</td>\n",
       "    </tr>\n",
       "    <tr>\n",
       "      <th>23</th>\n",
       "      <td>24</td>\n",
       "      <td>2025-01-13 18:03:22.476601</td>\n",
       "      <td>CREATED</td>\n",
       "      <td>MaxSense - A075v</td>\n",
       "      <td>2</td>\n",
       "      <td>2025-01-13 18:03:22.539400</td>\n",
       "    </tr>\n",
       "    <tr>\n",
       "      <th>22</th>\n",
       "      <td>23</td>\n",
       "      <td>2025-01-13 18:03:22.407931</td>\n",
       "      <td>CREATED</td>\n",
       "      <td>MaxSense - A075v</td>\n",
       "      <td>2</td>\n",
       "      <td>2025-01-13 18:03:22.473099</td>\n",
       "    </tr>\n",
       "    <tr>\n",
       "      <th>21</th>\n",
       "      <td>22</td>\n",
       "      <td>2025-01-13 18:03:22.340938</td>\n",
       "      <td>CREATED</td>\n",
       "      <td>MaxSense - A075v</td>\n",
       "      <td>2</td>\n",
       "      <td>2025-01-13 18:03:22.404406</td>\n",
       "    </tr>\n",
       "    <tr>\n",
       "      <th>20</th>\n",
       "      <td>21</td>\n",
       "      <td>2025-01-13 18:03:22.276446</td>\n",
       "      <td>CREATED</td>\n",
       "      <td>MaxSense - A075v</td>\n",
       "      <td>2</td>\n",
       "      <td>2025-01-13 18:03:22.337412</td>\n",
       "    </tr>\n",
       "  </tbody>\n",
       "</table>\n",
       "</div>"
      ],
      "text/plain": [
       "    rowid                   begin_at   status            sensor  job_id  \\\n",
       "24     25 2025-01-13 18:03:22.543001  CREATED  MaxSense - A075v       2   \n",
       "23     24 2025-01-13 18:03:22.476601  CREATED  MaxSense - A075v       2   \n",
       "22     23 2025-01-13 18:03:22.407931  CREATED  MaxSense - A075v       2   \n",
       "21     22 2025-01-13 18:03:22.340938  CREATED  MaxSense - A075v       2   \n",
       "20     21 2025-01-13 18:03:22.276446  CREATED  MaxSense - A075v       2   \n",
       "\n",
       "                     final_at  \n",
       "24 2025-01-13 18:03:22.608828  \n",
       "23 2025-01-13 18:03:22.539400  \n",
       "22 2025-01-13 18:03:22.473099  \n",
       "21 2025-01-13 18:03:22.404406  \n",
       "20 2025-01-13 18:03:22.337412  "
      ]
     },
     "execution_count": 70,
     "metadata": {},
     "output_type": "execute_result"
    }
   ],
   "source": [
    "runs.sort_values(by='rowid', ascending=False).head()"
   ]
  },
  {
   "cell_type": "code",
   "execution_count": 71,
   "id": "79e161f4-e90b-4890-b8a2-b99d24a8ed30",
   "metadata": {},
   "outputs": [
    {
     "data": {
      "text/plain": [
       "(25, 10)"
      ]
     },
     "execution_count": 71,
     "metadata": {},
     "output_type": "execute_result"
    }
   ],
   "source": [
    "runs_1 = runs.merge(\n",
    "    jobs[['rowid', 'project_id', 'collect_id', 'thing_id', 'thing_tag']], \n",
    "    left_on='job_id', \n",
    "    right_on='rowid', \n",
    "    how='left').rename(columns={'rowid_x':'run_id'}).drop(columns=['rowid_y'])\n",
    "runs_1.shape"
   ]
  },
  {
   "cell_type": "code",
   "execution_count": 72,
   "id": "5d2f483e-a889-45c2-a504-50ed2e44d748",
   "metadata": {},
   "outputs": [
    {
     "data": {
      "text/html": [
       "<div>\n",
       "<style scoped>\n",
       "    .dataframe tbody tr th:only-of-type {\n",
       "        vertical-align: middle;\n",
       "    }\n",
       "\n",
       "    .dataframe tbody tr th {\n",
       "        vertical-align: top;\n",
       "    }\n",
       "\n",
       "    .dataframe thead th {\n",
       "        text-align: right;\n",
       "    }\n",
       "</style>\n",
       "<table border=\"1\" class=\"dataframe\">\n",
       "  <thead>\n",
       "    <tr style=\"text-align: right;\">\n",
       "      <th></th>\n",
       "      <th>run_id</th>\n",
       "      <th>begin_at</th>\n",
       "      <th>status</th>\n",
       "      <th>sensor</th>\n",
       "      <th>job_id</th>\n",
       "      <th>final_at</th>\n",
       "      <th>project_id</th>\n",
       "      <th>collect_id</th>\n",
       "      <th>thing_id</th>\n",
       "      <th>thing_tag</th>\n",
       "    </tr>\n",
       "  </thead>\n",
       "  <tbody>\n",
       "    <tr>\n",
       "      <th>24</th>\n",
       "      <td>25</td>\n",
       "      <td>2025-01-13 18:03:22.543001</td>\n",
       "      <td>CREATED</td>\n",
       "      <td>MaxSense - A075v</td>\n",
       "      <td>2</td>\n",
       "      <td>2025-01-13 18:03:22.608828</td>\n",
       "      <td>PR-9</td>\n",
       "      <td>CL-9</td>\n",
       "      <td>XY00-9</td>\n",
       "      <td>TG-00</td>\n",
       "    </tr>\n",
       "    <tr>\n",
       "      <th>23</th>\n",
       "      <td>24</td>\n",
       "      <td>2025-01-13 18:03:22.476601</td>\n",
       "      <td>CREATED</td>\n",
       "      <td>MaxSense - A075v</td>\n",
       "      <td>2</td>\n",
       "      <td>2025-01-13 18:03:22.539400</td>\n",
       "      <td>PR-9</td>\n",
       "      <td>CL-9</td>\n",
       "      <td>XY00-9</td>\n",
       "      <td>TG-00</td>\n",
       "    </tr>\n",
       "    <tr>\n",
       "      <th>22</th>\n",
       "      <td>23</td>\n",
       "      <td>2025-01-13 18:03:22.407931</td>\n",
       "      <td>CREATED</td>\n",
       "      <td>MaxSense - A075v</td>\n",
       "      <td>2</td>\n",
       "      <td>2025-01-13 18:03:22.473099</td>\n",
       "      <td>PR-9</td>\n",
       "      <td>CL-9</td>\n",
       "      <td>XY00-9</td>\n",
       "      <td>TG-00</td>\n",
       "    </tr>\n",
       "    <tr>\n",
       "      <th>21</th>\n",
       "      <td>22</td>\n",
       "      <td>2025-01-13 18:03:22.340938</td>\n",
       "      <td>CREATED</td>\n",
       "      <td>MaxSense - A075v</td>\n",
       "      <td>2</td>\n",
       "      <td>2025-01-13 18:03:22.404406</td>\n",
       "      <td>PR-9</td>\n",
       "      <td>CL-9</td>\n",
       "      <td>XY00-9</td>\n",
       "      <td>TG-00</td>\n",
       "    </tr>\n",
       "    <tr>\n",
       "      <th>20</th>\n",
       "      <td>21</td>\n",
       "      <td>2025-01-13 18:03:22.276446</td>\n",
       "      <td>CREATED</td>\n",
       "      <td>MaxSense - A075v</td>\n",
       "      <td>2</td>\n",
       "      <td>2025-01-13 18:03:22.337412</td>\n",
       "      <td>PR-9</td>\n",
       "      <td>CL-9</td>\n",
       "      <td>XY00-9</td>\n",
       "      <td>TG-00</td>\n",
       "    </tr>\n",
       "  </tbody>\n",
       "</table>\n",
       "</div>"
      ],
      "text/plain": [
       "    run_id                   begin_at   status            sensor  job_id  \\\n",
       "24      25 2025-01-13 18:03:22.543001  CREATED  MaxSense - A075v       2   \n",
       "23      24 2025-01-13 18:03:22.476601  CREATED  MaxSense - A075v       2   \n",
       "22      23 2025-01-13 18:03:22.407931  CREATED  MaxSense - A075v       2   \n",
       "21      22 2025-01-13 18:03:22.340938  CREATED  MaxSense - A075v       2   \n",
       "20      21 2025-01-13 18:03:22.276446  CREATED  MaxSense - A075v       2   \n",
       "\n",
       "                     final_at project_id collect_id thing_id thing_tag  \n",
       "24 2025-01-13 18:03:22.608828       PR-9       CL-9   XY00-9     TG-00  \n",
       "23 2025-01-13 18:03:22.539400       PR-9       CL-9   XY00-9     TG-00  \n",
       "22 2025-01-13 18:03:22.473099       PR-9       CL-9   XY00-9     TG-00  \n",
       "21 2025-01-13 18:03:22.404406       PR-9       CL-9   XY00-9     TG-00  \n",
       "20 2025-01-13 18:03:22.337412       PR-9       CL-9   XY00-9     TG-00  "
      ]
     },
     "execution_count": 72,
     "metadata": {},
     "output_type": "execute_result"
    }
   ],
   "source": [
    "runs_1.sort_values(by='run_id', ascending=False).head()"
   ]
  },
  {
   "cell_type": "markdown",
   "id": "49c72578-2b3b-4278-bb77-eca081a7e043",
   "metadata": {},
   "source": [
    "## Itens"
   ]
  },
  {
   "cell_type": "code",
   "execution_count": 73,
   "id": "a2dee85a-7dc6-483e-a4d0-807e9d3781bf",
   "metadata": {},
   "outputs": [
    {
     "data": {
      "text/plain": [
       "(96, 7)"
      ]
     },
     "execution_count": 73,
     "metadata": {},
     "output_type": "execute_result"
    }
   ],
   "source": [
    "itens = pd.read_sql_query(\"SELECT rowid, * from itens\", con)\n",
    "itens.shape"
   ]
  },
  {
   "cell_type": "code",
   "execution_count": 74,
   "id": "569159b9-57a4-488e-b8af-0dce02f2f708",
   "metadata": {},
   "outputs": [
    {
     "data": {
      "text/html": [
       "<div>\n",
       "<style scoped>\n",
       "    .dataframe tbody tr th:only-of-type {\n",
       "        vertical-align: middle;\n",
       "    }\n",
       "\n",
       "    .dataframe tbody tr th {\n",
       "        vertical-align: top;\n",
       "    }\n",
       "\n",
       "    .dataframe thead th {\n",
       "        text-align: right;\n",
       "    }\n",
       "</style>\n",
       "<table border=\"1\" class=\"dataframe\">\n",
       "  <thead>\n",
       "    <tr style=\"text-align: right;\">\n",
       "      <th></th>\n",
       "      <th>rowid</th>\n",
       "      <th>status</th>\n",
       "      <th>type</th>\n",
       "      <th>pov</th>\n",
       "      <th>res</th>\n",
       "      <th>file_path</th>\n",
       "      <th>run_id</th>\n",
       "    </tr>\n",
       "  </thead>\n",
       "  <tbody>\n",
       "    <tr>\n",
       "      <th>95</th>\n",
       "      <td>96</td>\n",
       "      <td>STAGED</td>\n",
       "      <td>STATUS</td>\n",
       "      <td>TOP_DOWN</td>\n",
       "      <td>_320_240_1</td>\n",
       "      <td>TG-00_25_2025_01_13_18_03_22_546813_STATUS_320...</td>\n",
       "      <td>25</td>\n",
       "    </tr>\n",
       "    <tr>\n",
       "      <th>94</th>\n",
       "      <td>95</td>\n",
       "      <td>STAGED</td>\n",
       "      <td>IR</td>\n",
       "      <td>TOP_DOWN</td>\n",
       "      <td>_320_240_1</td>\n",
       "      <td>TG-00_25_2025_01_13_18_03_22_546813_IR_320_240...</td>\n",
       "      <td>25</td>\n",
       "    </tr>\n",
       "    <tr>\n",
       "      <th>93</th>\n",
       "      <td>94</td>\n",
       "      <td>STAGED</td>\n",
       "      <td>DEPTH</td>\n",
       "      <td>TOP_DOWN</td>\n",
       "      <td>_320_240_1</td>\n",
       "      <td>TG-00_25_2025_01_13_18_03_22_546813_DEPTH_320_...</td>\n",
       "      <td>25</td>\n",
       "    </tr>\n",
       "    <tr>\n",
       "      <th>92</th>\n",
       "      <td>93</td>\n",
       "      <td>STAGED</td>\n",
       "      <td>RGB</td>\n",
       "      <td>TOP_DOWN</td>\n",
       "      <td>_640_480_3</td>\n",
       "      <td>TG-00_25_2025_01_13_18_03_22_546813_RGB_640_48...</td>\n",
       "      <td>25</td>\n",
       "    </tr>\n",
       "    <tr>\n",
       "      <th>91</th>\n",
       "      <td>92</td>\n",
       "      <td>STAGED</td>\n",
       "      <td>STATUS</td>\n",
       "      <td>TOP_DOWN</td>\n",
       "      <td>_320_240_1</td>\n",
       "      <td>TG-00_24_2025_01_13_18_03_22_480049_STATUS_320...</td>\n",
       "      <td>24</td>\n",
       "    </tr>\n",
       "  </tbody>\n",
       "</table>\n",
       "</div>"
      ],
      "text/plain": [
       "    rowid  status    type       pov         res  \\\n",
       "95     96  STAGED  STATUS  TOP_DOWN  _320_240_1   \n",
       "94     95  STAGED      IR  TOP_DOWN  _320_240_1   \n",
       "93     94  STAGED   DEPTH  TOP_DOWN  _320_240_1   \n",
       "92     93  STAGED     RGB  TOP_DOWN  _640_480_3   \n",
       "91     92  STAGED  STATUS  TOP_DOWN  _320_240_1   \n",
       "\n",
       "                                            file_path  run_id  \n",
       "95  TG-00_25_2025_01_13_18_03_22_546813_STATUS_320...      25  \n",
       "94  TG-00_25_2025_01_13_18_03_22_546813_IR_320_240...      25  \n",
       "93  TG-00_25_2025_01_13_18_03_22_546813_DEPTH_320_...      25  \n",
       "92  TG-00_25_2025_01_13_18_03_22_546813_RGB_640_48...      25  \n",
       "91  TG-00_24_2025_01_13_18_03_22_480049_STATUS_320...      24  "
      ]
     },
     "execution_count": 74,
     "metadata": {},
     "output_type": "execute_result"
    }
   ],
   "source": [
    "itens.sort_values(by='rowid', ascending=False).head()"
   ]
  },
  {
   "cell_type": "code",
   "execution_count": 47,
   "id": "a0ae9159-33ef-494f-921d-1fa653a1b7b1",
   "metadata": {},
   "outputs": [
    {
     "data": {
      "text/plain": [
       "count    442.000000\n",
       "mean       3.029412\n",
       "std        1.405059\n",
       "min        1.000000\n",
       "25%        1.000000\n",
       "50%        4.000000\n",
       "75%        4.000000\n",
       "max        4.000000\n",
       "dtype: float64"
      ]
     },
     "execution_count": 47,
     "metadata": {},
     "output_type": "execute_result"
    }
   ],
   "source": [
    "itens.groupby('run_id').size().describe()"
   ]
  },
  {
   "cell_type": "markdown",
   "id": "e2e9baaa-21ad-4427-a9f3-cc21b081d313",
   "metadata": {},
   "source": [
    "## Data\n",
    "$t = jobs * runs-per-job * items$"
   ]
  },
  {
   "cell_type": "code",
   "execution_count": 66,
   "id": "f231a60c-5634-42fa-a30f-7fcb40712967",
   "metadata": {},
   "outputs": [
    {
     "name": "stdout",
     "output_type": "stream",
     "text": [
      "24380 itens\n"
     ]
    }
   ],
   "source": [
    "t = 23 * 265 * 4\n",
    "print(f'{t} itens')"
   ]
  }
 ],
 "metadata": {
  "kernelspec": {
   "display_name": "Python 3 (ipykernel)",
   "language": "python",
   "name": "python3"
  },
  "language_info": {
   "codemirror_mode": {
    "name": "ipython",
    "version": 3
   },
   "file_extension": ".py",
   "mimetype": "text/x-python",
   "name": "python",
   "nbconvert_exporter": "python",
   "pygments_lexer": "ipython3",
   "version": "3.10.9"
  }
 },
 "nbformat": 4,
 "nbformat_minor": 5
}
