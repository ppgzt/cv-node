{
 "cells": [
  {
   "cell_type": "markdown",
   "id": "c987953c-a3af-4c20-a6af-c1675da64efe",
   "metadata": {},
   "source": [
    "# Data Analysis\n",
    "\n",
    "Objective: Quantitative analyse of data ..."
   ]
  },
  {
   "cell_type": "code",
   "execution_count": 1,
   "id": "378f9007-0f6b-4f13-be43-7cb700fd95f5",
   "metadata": {},
   "outputs": [],
   "source": [
    "import sqlite3, pandas as pd"
   ]
  },
  {
   "cell_type": "code",
   "execution_count": 25,
   "id": "abd72e04-ae84-48a4-ac9c-cf0e818b1faa",
   "metadata": {
    "scrolled": true
   },
   "outputs": [],
   "source": [
    "con = sqlite3.connect(\"../cv-node-data/db/cvnode.db\")\n",
    "cur = con.cursor()"
   ]
  },
  {
   "cell_type": "code",
   "execution_count": 27,
   "id": "6f646fff-d133-4677-b0a5-9207beda5431",
   "metadata": {},
   "outputs": [
    {
     "data": {
      "text/plain": [
       "(18, 7)"
      ]
     },
     "execution_count": 27,
     "metadata": {},
     "output_type": "execute_result"
    }
   ],
   "source": [
    "jobs = pd.read_sql_query(\"SELECT rowid, * from jobs\", con, parse_dates=['begin_at', 'final_at'])\n",
    "jobs.shape"
   ]
  },
  {
   "cell_type": "code",
   "execution_count": 29,
   "id": "2e45c6ba-0088-4e2d-825e-f5f7e5edc7e8",
   "metadata": {},
   "outputs": [
    {
     "data": {
      "text/html": [
       "<div>\n",
       "<style scoped>\n",
       "    .dataframe tbody tr th:only-of-type {\n",
       "        vertical-align: middle;\n",
       "    }\n",
       "\n",
       "    .dataframe tbody tr th {\n",
       "        vertical-align: top;\n",
       "    }\n",
       "\n",
       "    .dataframe thead th {\n",
       "        text-align: right;\n",
       "    }\n",
       "</style>\n",
       "<table border=\"1\" class=\"dataframe\">\n",
       "  <thead>\n",
       "    <tr style=\"text-align: right;\">\n",
       "      <th></th>\n",
       "      <th>rowid</th>\n",
       "      <th>begin_at</th>\n",
       "      <th>project_id</th>\n",
       "      <th>collect_id</th>\n",
       "      <th>thing_id</th>\n",
       "      <th>thing_tag</th>\n",
       "      <th>final_at</th>\n",
       "    </tr>\n",
       "  </thead>\n",
       "  <tbody>\n",
       "    <tr>\n",
       "      <th>17</th>\n",
       "      <td>18</td>\n",
       "      <td>2025-01-13 17:13:27.044643</td>\n",
       "      <td>PR-9</td>\n",
       "      <td>CL-9</td>\n",
       "      <td>XY00-9</td>\n",
       "      <td>TG-00</td>\n",
       "      <td>2025-01-13 17:13:28.038557</td>\n",
       "    </tr>\n",
       "    <tr>\n",
       "      <th>16</th>\n",
       "      <td>17</td>\n",
       "      <td>2025-01-13 17:08:26.965457</td>\n",
       "      <td>PR-9</td>\n",
       "      <td>CL-9</td>\n",
       "      <td>XY00-9</td>\n",
       "      <td>TG-00</td>\n",
       "      <td>2025-01-13 17:08:29.522000</td>\n",
       "    </tr>\n",
       "    <tr>\n",
       "      <th>15</th>\n",
       "      <td>16</td>\n",
       "      <td>2025-01-13 17:07:38.801367</td>\n",
       "      <td>PR-9</td>\n",
       "      <td>CL-9</td>\n",
       "      <td>XY00-9</td>\n",
       "      <td>TG-00</td>\n",
       "      <td>2025-01-13 17:07:41.569918</td>\n",
       "    </tr>\n",
       "    <tr>\n",
       "      <th>14</th>\n",
       "      <td>15</td>\n",
       "      <td>2025-01-13 17:06:46.536195</td>\n",
       "      <td>PR-9</td>\n",
       "      <td>CL-9</td>\n",
       "      <td>XY00-9</td>\n",
       "      <td>TG-00</td>\n",
       "      <td>2025-01-13 17:06:50.603570</td>\n",
       "    </tr>\n",
       "    <tr>\n",
       "      <th>13</th>\n",
       "      <td>14</td>\n",
       "      <td>2025-01-13 17:05:23.399669</td>\n",
       "      <td>PR-9</td>\n",
       "      <td>CL-9</td>\n",
       "      <td>XY00-9</td>\n",
       "      <td>TG-00</td>\n",
       "      <td>2025-01-13 17:05:26.831629</td>\n",
       "    </tr>\n",
       "  </tbody>\n",
       "</table>\n",
       "</div>"
      ],
      "text/plain": [
       "    rowid                   begin_at project_id collect_id thing_id thing_tag  \\\n",
       "17     18 2025-01-13 17:13:27.044643       PR-9       CL-9   XY00-9     TG-00   \n",
       "16     17 2025-01-13 17:08:26.965457       PR-9       CL-9   XY00-9     TG-00   \n",
       "15     16 2025-01-13 17:07:38.801367       PR-9       CL-9   XY00-9     TG-00   \n",
       "14     15 2025-01-13 17:06:46.536195       PR-9       CL-9   XY00-9     TG-00   \n",
       "13     14 2025-01-13 17:05:23.399669       PR-9       CL-9   XY00-9     TG-00   \n",
       "\n",
       "                     final_at  \n",
       "17 2025-01-13 17:13:28.038557  \n",
       "16 2025-01-13 17:08:29.522000  \n",
       "15 2025-01-13 17:07:41.569918  \n",
       "14 2025-01-13 17:06:50.603570  \n",
       "13 2025-01-13 17:05:26.831629  "
      ]
     },
     "execution_count": 29,
     "metadata": {},
     "output_type": "execute_result"
    }
   ],
   "source": [
    "jobs.sort_values(by='rowid', ascending=False).head()"
   ]
  },
  {
   "cell_type": "code",
   "execution_count": 31,
   "id": "7b5d60ed-7509-44cf-8b0b-2ef5c4bf0f38",
   "metadata": {},
   "outputs": [
    {
     "data": {
      "text/html": [
       "<div>\n",
       "<style scoped>\n",
       "    .dataframe tbody tr th:only-of-type {\n",
       "        vertical-align: middle;\n",
       "    }\n",
       "\n",
       "    .dataframe tbody tr th {\n",
       "        vertical-align: top;\n",
       "    }\n",
       "\n",
       "    .dataframe thead th {\n",
       "        text-align: right;\n",
       "    }\n",
       "</style>\n",
       "<table border=\"1\" class=\"dataframe\">\n",
       "  <thead>\n",
       "    <tr style=\"text-align: right;\">\n",
       "      <th></th>\n",
       "      <th>rowid</th>\n",
       "      <th>begin_at</th>\n",
       "      <th>project_id</th>\n",
       "      <th>collect_id</th>\n",
       "      <th>thing_id</th>\n",
       "      <th>thing_tag</th>\n",
       "      <th>final_at</th>\n",
       "      <th>duration</th>\n",
       "    </tr>\n",
       "  </thead>\n",
       "  <tbody>\n",
       "    <tr>\n",
       "      <th>17</th>\n",
       "      <td>18</td>\n",
       "      <td>2025-01-13 17:13:27.044643</td>\n",
       "      <td>PR-9</td>\n",
       "      <td>CL-9</td>\n",
       "      <td>XY00-9</td>\n",
       "      <td>TG-00</td>\n",
       "      <td>2025-01-13 17:13:28.038557</td>\n",
       "      <td>0 days 00:00:00.993914</td>\n",
       "    </tr>\n",
       "    <tr>\n",
       "      <th>16</th>\n",
       "      <td>17</td>\n",
       "      <td>2025-01-13 17:08:26.965457</td>\n",
       "      <td>PR-9</td>\n",
       "      <td>CL-9</td>\n",
       "      <td>XY00-9</td>\n",
       "      <td>TG-00</td>\n",
       "      <td>2025-01-13 17:08:29.522000</td>\n",
       "      <td>0 days 00:00:02.556543</td>\n",
       "    </tr>\n",
       "    <tr>\n",
       "      <th>15</th>\n",
       "      <td>16</td>\n",
       "      <td>2025-01-13 17:07:38.801367</td>\n",
       "      <td>PR-9</td>\n",
       "      <td>CL-9</td>\n",
       "      <td>XY00-9</td>\n",
       "      <td>TG-00</td>\n",
       "      <td>2025-01-13 17:07:41.569918</td>\n",
       "      <td>0 days 00:00:02.768551</td>\n",
       "    </tr>\n",
       "    <tr>\n",
       "      <th>14</th>\n",
       "      <td>15</td>\n",
       "      <td>2025-01-13 17:06:46.536195</td>\n",
       "      <td>PR-9</td>\n",
       "      <td>CL-9</td>\n",
       "      <td>XY00-9</td>\n",
       "      <td>TG-00</td>\n",
       "      <td>2025-01-13 17:06:50.603570</td>\n",
       "      <td>0 days 00:00:04.067375</td>\n",
       "    </tr>\n",
       "    <tr>\n",
       "      <th>13</th>\n",
       "      <td>14</td>\n",
       "      <td>2025-01-13 17:05:23.399669</td>\n",
       "      <td>PR-9</td>\n",
       "      <td>CL-9</td>\n",
       "      <td>XY00-9</td>\n",
       "      <td>TG-00</td>\n",
       "      <td>2025-01-13 17:05:26.831629</td>\n",
       "      <td>0 days 00:00:03.431960</td>\n",
       "    </tr>\n",
       "  </tbody>\n",
       "</table>\n",
       "</div>"
      ],
      "text/plain": [
       "    rowid                   begin_at project_id collect_id thing_id thing_tag  \\\n",
       "17     18 2025-01-13 17:13:27.044643       PR-9       CL-9   XY00-9     TG-00   \n",
       "16     17 2025-01-13 17:08:26.965457       PR-9       CL-9   XY00-9     TG-00   \n",
       "15     16 2025-01-13 17:07:38.801367       PR-9       CL-9   XY00-9     TG-00   \n",
       "14     15 2025-01-13 17:06:46.536195       PR-9       CL-9   XY00-9     TG-00   \n",
       "13     14 2025-01-13 17:05:23.399669       PR-9       CL-9   XY00-9     TG-00   \n",
       "\n",
       "                     final_at               duration  \n",
       "17 2025-01-13 17:13:28.038557 0 days 00:00:00.993914  \n",
       "16 2025-01-13 17:08:29.522000 0 days 00:00:02.556543  \n",
       "15 2025-01-13 17:07:41.569918 0 days 00:00:02.768551  \n",
       "14 2025-01-13 17:06:50.603570 0 days 00:00:04.067375  \n",
       "13 2025-01-13 17:05:26.831629 0 days 00:00:03.431960  "
      ]
     },
     "execution_count": 31,
     "metadata": {},
     "output_type": "execute_result"
    }
   ],
   "source": [
    "jobs['duration'] = jobs['final_at'] - jobs['begin_at']\n",
    "jobs.sort_values(by='rowid', ascending=False).head()"
   ]
  },
  {
   "cell_type": "code",
   "execution_count": 44,
   "id": "91344e39-c41a-4cb6-ae1d-7893bc96cde3",
   "metadata": {},
   "outputs": [
    {
     "data": {
      "text/html": [
       "<div>\n",
       "<style scoped>\n",
       "    .dataframe tbody tr th:only-of-type {\n",
       "        vertical-align: middle;\n",
       "    }\n",
       "\n",
       "    .dataframe tbody tr th {\n",
       "        vertical-align: top;\n",
       "    }\n",
       "\n",
       "    .dataframe thead th {\n",
       "        text-align: right;\n",
       "    }\n",
       "</style>\n",
       "<table border=\"1\" class=\"dataframe\">\n",
       "  <thead>\n",
       "    <tr style=\"text-align: right;\">\n",
       "      <th></th>\n",
       "      <th>rowid</th>\n",
       "      <th>duration</th>\n",
       "    </tr>\n",
       "  </thead>\n",
       "  <tbody>\n",
       "    <tr>\n",
       "      <th>count</th>\n",
       "      <td>18.000000</td>\n",
       "      <td>18</td>\n",
       "    </tr>\n",
       "    <tr>\n",
       "      <th>mean</th>\n",
       "      <td>9.500000</td>\n",
       "      <td>0 days 00:00:02.851874888</td>\n",
       "    </tr>\n",
       "    <tr>\n",
       "      <th>std</th>\n",
       "      <td>5.338539</td>\n",
       "      <td>0 days 00:00:01.887093129</td>\n",
       "    </tr>\n",
       "    <tr>\n",
       "      <th>min</th>\n",
       "      <td>1.000000</td>\n",
       "      <td>0 days 00:00:00.993914</td>\n",
       "    </tr>\n",
       "    <tr>\n",
       "      <th>25%</th>\n",
       "      <td>5.250000</td>\n",
       "      <td>0 days 00:00:01.506138250</td>\n",
       "    </tr>\n",
       "    <tr>\n",
       "      <th>50%</th>\n",
       "      <td>9.500000</td>\n",
       "      <td>0 days 00:00:01.960996</td>\n",
       "    </tr>\n",
       "    <tr>\n",
       "      <th>75%</th>\n",
       "      <td>13.750000</td>\n",
       "      <td>0 days 00:00:03.908521250</td>\n",
       "    </tr>\n",
       "    <tr>\n",
       "      <th>max</th>\n",
       "      <td>18.000000</td>\n",
       "      <td>0 days 00:00:07.288112</td>\n",
       "    </tr>\n",
       "  </tbody>\n",
       "</table>\n",
       "</div>"
      ],
      "text/plain": [
       "           rowid                   duration\n",
       "count  18.000000                         18\n",
       "mean    9.500000  0 days 00:00:02.851874888\n",
       "std     5.338539  0 days 00:00:01.887093129\n",
       "min     1.000000     0 days 00:00:00.993914\n",
       "25%     5.250000  0 days 00:00:01.506138250\n",
       "50%     9.500000     0 days 00:00:01.960996\n",
       "75%    13.750000  0 days 00:00:03.908521250\n",
       "max    18.000000     0 days 00:00:07.288112"
      ]
     },
     "execution_count": 44,
     "metadata": {},
     "output_type": "execute_result"
    }
   ],
   "source": [
    "jobs.describe()"
   ]
  },
  {
   "cell_type": "markdown",
   "id": "ef98a441-09c5-406c-8da9-c91963530b77",
   "metadata": {},
   "source": [
    "## Run"
   ]
  },
  {
   "cell_type": "code",
   "execution_count": 33,
   "id": "43c84fea-1b01-4579-8caf-b433642165ba",
   "metadata": {},
   "outputs": [
    {
     "data": {
      "text/plain": [
       "(667, 5)"
      ]
     },
     "execution_count": 33,
     "metadata": {},
     "output_type": "execute_result"
    }
   ],
   "source": [
    "runs = pd.read_sql_query(\"SELECT rowid, * from runs\", con, parse_dates=['begin_at', 'final_at'])\n",
    "runs.shape"
   ]
  },
  {
   "cell_type": "code",
   "execution_count": 35,
   "id": "d4e6a9cd-60bb-408d-b105-063d59d52a78",
   "metadata": {},
   "outputs": [
    {
     "data": {
      "text/html": [
       "<div>\n",
       "<style scoped>\n",
       "    .dataframe tbody tr th:only-of-type {\n",
       "        vertical-align: middle;\n",
       "    }\n",
       "\n",
       "    .dataframe tbody tr th {\n",
       "        vertical-align: top;\n",
       "    }\n",
       "\n",
       "    .dataframe thead th {\n",
       "        text-align: right;\n",
       "    }\n",
       "</style>\n",
       "<table border=\"1\" class=\"dataframe\">\n",
       "  <thead>\n",
       "    <tr style=\"text-align: right;\">\n",
       "      <th></th>\n",
       "      <th>rowid</th>\n",
       "      <th>begin_at</th>\n",
       "      <th>final_at</th>\n",
       "      <th>sensor</th>\n",
       "      <th>job_id</th>\n",
       "    </tr>\n",
       "  </thead>\n",
       "  <tbody>\n",
       "    <tr>\n",
       "      <th>666</th>\n",
       "      <td>667</td>\n",
       "      <td>2025-01-13 17:13:27.942887</td>\n",
       "      <td>2025-01-13 17:13:28.030079</td>\n",
       "      <td>MaxSense - A075v</td>\n",
       "      <td>18</td>\n",
       "    </tr>\n",
       "    <tr>\n",
       "      <th>665</th>\n",
       "      <td>666</td>\n",
       "      <td>2025-01-13 17:13:27.871126</td>\n",
       "      <td>2025-01-13 17:13:27.939108</td>\n",
       "      <td>MaxSense - A075v</td>\n",
       "      <td>18</td>\n",
       "    </tr>\n",
       "    <tr>\n",
       "      <th>664</th>\n",
       "      <td>665</td>\n",
       "      <td>2025-01-13 17:13:27.802949</td>\n",
       "      <td>2025-01-13 17:13:27.867330</td>\n",
       "      <td>MaxSense - A075v</td>\n",
       "      <td>18</td>\n",
       "    </tr>\n",
       "    <tr>\n",
       "      <th>663</th>\n",
       "      <td>664</td>\n",
       "      <td>2025-01-13 17:13:27.732896</td>\n",
       "      <td>2025-01-13 17:13:27.799378</td>\n",
       "      <td>MaxSense - A075v</td>\n",
       "      <td>18</td>\n",
       "    </tr>\n",
       "    <tr>\n",
       "      <th>662</th>\n",
       "      <td>663</td>\n",
       "      <td>2025-01-13 17:13:27.663223</td>\n",
       "      <td>2025-01-13 17:13:27.729044</td>\n",
       "      <td>MaxSense - A075v</td>\n",
       "      <td>18</td>\n",
       "    </tr>\n",
       "  </tbody>\n",
       "</table>\n",
       "</div>"
      ],
      "text/plain": [
       "     rowid                   begin_at                   final_at  \\\n",
       "666    667 2025-01-13 17:13:27.942887 2025-01-13 17:13:28.030079   \n",
       "665    666 2025-01-13 17:13:27.871126 2025-01-13 17:13:27.939108   \n",
       "664    665 2025-01-13 17:13:27.802949 2025-01-13 17:13:27.867330   \n",
       "663    664 2025-01-13 17:13:27.732896 2025-01-13 17:13:27.799378   \n",
       "662    663 2025-01-13 17:13:27.663223 2025-01-13 17:13:27.729044   \n",
       "\n",
       "               sensor  job_id  \n",
       "666  MaxSense - A075v      18  \n",
       "665  MaxSense - A075v      18  \n",
       "664  MaxSense - A075v      18  \n",
       "663  MaxSense - A075v      18  \n",
       "662  MaxSense - A075v      18  "
      ]
     },
     "execution_count": 35,
     "metadata": {},
     "output_type": "execute_result"
    }
   ],
   "source": [
    "runs.sort_values(by='rowid', ascending=False).head()"
   ]
  },
  {
   "cell_type": "code",
   "execution_count": 48,
   "id": "79e161f4-e90b-4890-b8a2-b99d24a8ed30",
   "metadata": {},
   "outputs": [
    {
     "data": {
      "text/plain": [
       "(667, 9)"
      ]
     },
     "execution_count": 48,
     "metadata": {},
     "output_type": "execute_result"
    }
   ],
   "source": [
    "runs_1 = runs.merge(\n",
    "    jobs[['rowid', 'project_id', 'collect_id', 'thing_id', 'thing_tag']], \n",
    "    left_on='job_id', \n",
    "    right_on='rowid', \n",
    "    how='left').rename(columns={'rowid_x':'run_id'}).drop(columns=['rowid_y'])\n",
    "runs_1.shape"
   ]
  },
  {
   "cell_type": "code",
   "execution_count": 49,
   "id": "5d2f483e-a889-45c2-a504-50ed2e44d748",
   "metadata": {},
   "outputs": [
    {
     "data": {
      "text/html": [
       "<div>\n",
       "<style scoped>\n",
       "    .dataframe tbody tr th:only-of-type {\n",
       "        vertical-align: middle;\n",
       "    }\n",
       "\n",
       "    .dataframe tbody tr th {\n",
       "        vertical-align: top;\n",
       "    }\n",
       "\n",
       "    .dataframe thead th {\n",
       "        text-align: right;\n",
       "    }\n",
       "</style>\n",
       "<table border=\"1\" class=\"dataframe\">\n",
       "  <thead>\n",
       "    <tr style=\"text-align: right;\">\n",
       "      <th></th>\n",
       "      <th>run_id</th>\n",
       "      <th>begin_at</th>\n",
       "      <th>final_at</th>\n",
       "      <th>sensor</th>\n",
       "      <th>job_id</th>\n",
       "      <th>project_id</th>\n",
       "      <th>collect_id</th>\n",
       "      <th>thing_id</th>\n",
       "      <th>thing_tag</th>\n",
       "    </tr>\n",
       "  </thead>\n",
       "  <tbody>\n",
       "    <tr>\n",
       "      <th>666</th>\n",
       "      <td>667</td>\n",
       "      <td>2025-01-13 17:13:27.942887</td>\n",
       "      <td>2025-01-13 17:13:28.030079</td>\n",
       "      <td>MaxSense - A075v</td>\n",
       "      <td>18</td>\n",
       "      <td>PR-9</td>\n",
       "      <td>CL-9</td>\n",
       "      <td>XY00-9</td>\n",
       "      <td>TG-00</td>\n",
       "    </tr>\n",
       "    <tr>\n",
       "      <th>665</th>\n",
       "      <td>666</td>\n",
       "      <td>2025-01-13 17:13:27.871126</td>\n",
       "      <td>2025-01-13 17:13:27.939108</td>\n",
       "      <td>MaxSense - A075v</td>\n",
       "      <td>18</td>\n",
       "      <td>PR-9</td>\n",
       "      <td>CL-9</td>\n",
       "      <td>XY00-9</td>\n",
       "      <td>TG-00</td>\n",
       "    </tr>\n",
       "    <tr>\n",
       "      <th>664</th>\n",
       "      <td>665</td>\n",
       "      <td>2025-01-13 17:13:27.802949</td>\n",
       "      <td>2025-01-13 17:13:27.867330</td>\n",
       "      <td>MaxSense - A075v</td>\n",
       "      <td>18</td>\n",
       "      <td>PR-9</td>\n",
       "      <td>CL-9</td>\n",
       "      <td>XY00-9</td>\n",
       "      <td>TG-00</td>\n",
       "    </tr>\n",
       "    <tr>\n",
       "      <th>663</th>\n",
       "      <td>664</td>\n",
       "      <td>2025-01-13 17:13:27.732896</td>\n",
       "      <td>2025-01-13 17:13:27.799378</td>\n",
       "      <td>MaxSense - A075v</td>\n",
       "      <td>18</td>\n",
       "      <td>PR-9</td>\n",
       "      <td>CL-9</td>\n",
       "      <td>XY00-9</td>\n",
       "      <td>TG-00</td>\n",
       "    </tr>\n",
       "    <tr>\n",
       "      <th>662</th>\n",
       "      <td>663</td>\n",
       "      <td>2025-01-13 17:13:27.663223</td>\n",
       "      <td>2025-01-13 17:13:27.729044</td>\n",
       "      <td>MaxSense - A075v</td>\n",
       "      <td>18</td>\n",
       "      <td>PR-9</td>\n",
       "      <td>CL-9</td>\n",
       "      <td>XY00-9</td>\n",
       "      <td>TG-00</td>\n",
       "    </tr>\n",
       "  </tbody>\n",
       "</table>\n",
       "</div>"
      ],
      "text/plain": [
       "     run_id                   begin_at                   final_at  \\\n",
       "666     667 2025-01-13 17:13:27.942887 2025-01-13 17:13:28.030079   \n",
       "665     666 2025-01-13 17:13:27.871126 2025-01-13 17:13:27.939108   \n",
       "664     665 2025-01-13 17:13:27.802949 2025-01-13 17:13:27.867330   \n",
       "663     664 2025-01-13 17:13:27.732896 2025-01-13 17:13:27.799378   \n",
       "662     663 2025-01-13 17:13:27.663223 2025-01-13 17:13:27.729044   \n",
       "\n",
       "               sensor  job_id project_id collect_id thing_id thing_tag  \n",
       "666  MaxSense - A075v      18       PR-9       CL-9   XY00-9     TG-00  \n",
       "665  MaxSense - A075v      18       PR-9       CL-9   XY00-9     TG-00  \n",
       "664  MaxSense - A075v      18       PR-9       CL-9   XY00-9     TG-00  \n",
       "663  MaxSense - A075v      18       PR-9       CL-9   XY00-9     TG-00  \n",
       "662  MaxSense - A075v      18       PR-9       CL-9   XY00-9     TG-00  "
      ]
     },
     "execution_count": 49,
     "metadata": {},
     "output_type": "execute_result"
    }
   ],
   "source": [
    "runs_1.sort_values(by='run_id', ascending=False).head()"
   ]
  },
  {
   "cell_type": "code",
   "execution_count": 22,
   "id": "491d9059-2d0f-44d6-9b30-7cfb3a6fd881",
   "metadata": {},
   "outputs": [
    {
     "data": {
      "text/html": [
       "<div>\n",
       "<style scoped>\n",
       "    .dataframe tbody tr th:only-of-type {\n",
       "        vertical-align: middle;\n",
       "    }\n",
       "\n",
       "    .dataframe tbody tr th {\n",
       "        vertical-align: top;\n",
       "    }\n",
       "\n",
       "    .dataframe thead th {\n",
       "        text-align: right;\n",
       "    }\n",
       "</style>\n",
       "<table border=\"1\" class=\"dataframe\">\n",
       "  <thead>\n",
       "    <tr style=\"text-align: right;\">\n",
       "      <th></th>\n",
       "      <th>job_id</th>\n",
       "      <th>begin_at</th>\n",
       "      <th>final_at</th>\n",
       "    </tr>\n",
       "  </thead>\n",
       "  <tbody>\n",
       "    <tr>\n",
       "      <th>0</th>\n",
       "      <td>4</td>\n",
       "      <td>2025-01-13 15:44:56.102416</td>\n",
       "      <td>2025-01-13 15:45:00.870507</td>\n",
       "    </tr>\n",
       "  </tbody>\n",
       "</table>\n",
       "</div>"
      ],
      "text/plain": [
       "   job_id                   begin_at                   final_at\n",
       "0       4 2025-01-13 15:44:56.102416 2025-01-13 15:45:00.870507"
      ]
     },
     "execution_count": 22,
     "metadata": {},
     "output_type": "execute_result"
    }
   ],
   "source": [
    "r_dur = runs_1.query('final_at.notna()').groupby('job_id').agg({'begin_at':'min', 'final_at':'max'}).reset_index()\n",
    "r_dur.head()"
   ]
  },
  {
   "cell_type": "markdown",
   "id": "49c72578-2b3b-4278-bb77-eca081a7e043",
   "metadata": {},
   "source": [
    "## Itens"
   ]
  },
  {
   "cell_type": "code",
   "execution_count": 46,
   "id": "a2dee85a-7dc6-483e-a4d0-807e9d3781bf",
   "metadata": {},
   "outputs": [
    {
     "data": {
      "text/html": [
       "<div>\n",
       "<style scoped>\n",
       "    .dataframe tbody tr th:only-of-type {\n",
       "        vertical-align: middle;\n",
       "    }\n",
       "\n",
       "    .dataframe tbody tr th {\n",
       "        vertical-align: top;\n",
       "    }\n",
       "\n",
       "    .dataframe thead th {\n",
       "        text-align: right;\n",
       "    }\n",
       "</style>\n",
       "<table border=\"1\" class=\"dataframe\">\n",
       "  <thead>\n",
       "    <tr style=\"text-align: right;\">\n",
       "      <th></th>\n",
       "      <th>rowid</th>\n",
       "      <th>status</th>\n",
       "      <th>type</th>\n",
       "      <th>pov</th>\n",
       "      <th>res</th>\n",
       "      <th>file_path</th>\n",
       "      <th>run_id</th>\n",
       "    </tr>\n",
       "  </thead>\n",
       "  <tbody>\n",
       "    <tr>\n",
       "      <th>1338</th>\n",
       "      <td>1339</td>\n",
       "      <td>STAGED</td>\n",
       "      <td>IMAGE</td>\n",
       "      <td>TOP_DOWN</td>\n",
       "      <td>_320_240_1</td>\n",
       "      <td>TG-00_667_2025_01_13_17_13_27_946646_STATUS_32...</td>\n",
       "      <td>667</td>\n",
       "    </tr>\n",
       "    <tr>\n",
       "      <th>1337</th>\n",
       "      <td>1338</td>\n",
       "      <td>STAGED</td>\n",
       "      <td>IMAGE</td>\n",
       "      <td>TOP_DOWN</td>\n",
       "      <td>_320_240_1</td>\n",
       "      <td>TG-00_667_2025_01_13_17_13_27_946646_IR_320_24...</td>\n",
       "      <td>667</td>\n",
       "    </tr>\n",
       "    <tr>\n",
       "      <th>1336</th>\n",
       "      <td>1337</td>\n",
       "      <td>STAGED</td>\n",
       "      <td>IMAGE</td>\n",
       "      <td>TOP_DOWN</td>\n",
       "      <td>_320_240_1</td>\n",
       "      <td>TG-00_667_2025_01_13_17_13_27_946646_DEPTH_320...</td>\n",
       "      <td>667</td>\n",
       "    </tr>\n",
       "    <tr>\n",
       "      <th>1335</th>\n",
       "      <td>1336</td>\n",
       "      <td>STAGED</td>\n",
       "      <td>IMAGE</td>\n",
       "      <td>TOP_DOWN</td>\n",
       "      <td>_640_480_3</td>\n",
       "      <td>TG-00_667_2025_01_13_17_13_27_946646_RGB_640_4...</td>\n",
       "      <td>667</td>\n",
       "    </tr>\n",
       "    <tr>\n",
       "      <th>1334</th>\n",
       "      <td>1335</td>\n",
       "      <td>STAGED</td>\n",
       "      <td>IMAGE</td>\n",
       "      <td>TOP_DOWN</td>\n",
       "      <td>_320_240_1</td>\n",
       "      <td>TG-00_666_2025_01_13_17_13_27_874840_STATUS_32...</td>\n",
       "      <td>666</td>\n",
       "    </tr>\n",
       "  </tbody>\n",
       "</table>\n",
       "</div>"
      ],
      "text/plain": [
       "      rowid  status   type       pov         res  \\\n",
       "1338   1339  STAGED  IMAGE  TOP_DOWN  _320_240_1   \n",
       "1337   1338  STAGED  IMAGE  TOP_DOWN  _320_240_1   \n",
       "1336   1337  STAGED  IMAGE  TOP_DOWN  _320_240_1   \n",
       "1335   1336  STAGED  IMAGE  TOP_DOWN  _640_480_3   \n",
       "1334   1335  STAGED  IMAGE  TOP_DOWN  _320_240_1   \n",
       "\n",
       "                                              file_path  run_id  \n",
       "1338  TG-00_667_2025_01_13_17_13_27_946646_STATUS_32...     667  \n",
       "1337  TG-00_667_2025_01_13_17_13_27_946646_IR_320_24...     667  \n",
       "1336  TG-00_667_2025_01_13_17_13_27_946646_DEPTH_320...     667  \n",
       "1335  TG-00_667_2025_01_13_17_13_27_946646_RGB_640_4...     667  \n",
       "1334  TG-00_666_2025_01_13_17_13_27_874840_STATUS_32...     666  "
      ]
     },
     "execution_count": 46,
     "metadata": {},
     "output_type": "execute_result"
    }
   ],
   "source": [
    "itens = pd.read_sql_query(\"SELECT rowid, * from itens\", con)\n",
    "itens.sort_values(by='rowid', ascending=False).head()"
   ]
  },
  {
   "cell_type": "code",
   "execution_count": 47,
   "id": "a0ae9159-33ef-494f-921d-1fa653a1b7b1",
   "metadata": {},
   "outputs": [
    {
     "data": {
      "text/plain": [
       "count    442.000000\n",
       "mean       3.029412\n",
       "std        1.405059\n",
       "min        1.000000\n",
       "25%        1.000000\n",
       "50%        4.000000\n",
       "75%        4.000000\n",
       "max        4.000000\n",
       "dtype: float64"
      ]
     },
     "execution_count": 47,
     "metadata": {},
     "output_type": "execute_result"
    }
   ],
   "source": [
    "itens.groupby('run_id').size().describe()"
   ]
  },
  {
   "cell_type": "markdown",
   "id": "e2e9baaa-21ad-4427-a9f3-cc21b081d313",
   "metadata": {},
   "source": [
    "## Data\n",
    "$t = jobs * runs-per-job * items$"
   ]
  },
  {
   "cell_type": "code",
   "execution_count": 66,
   "id": "f231a60c-5634-42fa-a30f-7fcb40712967",
   "metadata": {},
   "outputs": [
    {
     "name": "stdout",
     "output_type": "stream",
     "text": [
      "24380 itens\n"
     ]
    }
   ],
   "source": [
    "t = 23 * 265 * 4\n",
    "print(f'{t} itens')"
   ]
  }
 ],
 "metadata": {
  "kernelspec": {
   "display_name": "Python 3 (ipykernel)",
   "language": "python",
   "name": "python3"
  },
  "language_info": {
   "codemirror_mode": {
    "name": "ipython",
    "version": 3
   },
   "file_extension": ".py",
   "mimetype": "text/x-python",
   "name": "python",
   "nbconvert_exporter": "python",
   "pygments_lexer": "ipython3",
   "version": "3.10.9"
  }
 },
 "nbformat": 4,
 "nbformat_minor": 5
}
